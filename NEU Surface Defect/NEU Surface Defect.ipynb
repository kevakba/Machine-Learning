{
 "cells": [
  {
   "cell_type": "code",
   "execution_count": 1,
   "id": "f1523055",
   "metadata": {},
   "outputs": [],
   "source": [
    "# importing libraries\n",
    "\n",
    "import tensorflow as tf\n",
    "import numpy as np\n",
    "from tensorflow.keras.preprocessing.image import ImageDataGenerator\n",
    "from tensorflow.keras.models import Sequential\n",
    "from tensorflow.keras.layers import Dense, Conv2D, Flatten, Dropout, MaxPooling2D, BatchNormalization\n",
    "import matplotlib.pyplot as plt\n",
    "from tensorflow.keras import layers\n",
    "import matplotlib.image as mpimg"
   ]
  },
  {
   "cell_type": "code",
   "execution_count": 2,
   "id": "e108e656",
   "metadata": {},
   "outputs": [
    {
     "name": "stdout",
     "output_type": "stream",
     "text": [
      "WARNING:tensorflow:From <ipython-input-2-3ac178cf7067>:3: is_gpu_available (from tensorflow.python.framework.test_util) is deprecated and will be removed in a future version.\n",
      "Instructions for updating:\n",
      "Use `tf.config.list_physical_devices('GPU')` instead.\n",
      "True\n"
     ]
    }
   ],
   "source": [
    "#GPU availability check\n",
    "\n",
    "print(tf.test.is_gpu_available())"
   ]
  },
  {
   "cell_type": "code",
   "execution_count": 3,
   "id": "dcce7510",
   "metadata": {},
   "outputs": [],
   "source": [
    "#setting up the data directory\n",
    "\n",
    "import pathlib\n",
    "import os\n",
    "\n",
    "\n",
    "dataset_path = \"/home/kevin/Downloads/NEU-DET\"\n",
    "data_dir = pathlib.Path(dataset_path)\n",
    "train_dir = os.path.join(data_dir, 'train')\n",
    "val_dir = os.path.join(data_dir, 'validation')"
   ]
  },
  {
   "cell_type": "code",
   "execution_count": 4,
   "id": "84bc6388",
   "metadata": {},
   "outputs": [
    {
     "data": {
      "text/plain": [
       "'/home/kevin/Downloads/NEU-DET/train'"
      ]
     },
     "execution_count": 4,
     "metadata": {},
     "output_type": "execute_result"
    }
   ],
   "source": [
    "train_dir"
   ]
  },
  {
   "cell_type": "code",
   "execution_count": 5,
   "id": "61447130",
   "metadata": {},
   "outputs": [],
   "source": [
    "# parameter setting\n",
    "\n",
    "batch_size=30\n",
    "img_height=200\n",
    "img_width=200"
   ]
  },
  {
   "cell_type": "code",
   "execution_count": 6,
   "id": "598d7702",
   "metadata": {},
   "outputs": [
    {
     "name": "stdout",
     "output_type": "stream",
     "text": [
      "Found 1440 images belonging to 6 classes.\n"
     ]
    }
   ],
   "source": [
    "# train data generator\n",
    "\n",
    "\n",
    "image_gen_train = ImageDataGenerator(\n",
    "                    rescale=1./255,\n",
    "                    rotation_range=45,\n",
    "                    width_shift_range=.15,\n",
    "                    height_shift_range=.15,\n",
    "                    horizontal_flip=True,\n",
    "                    zoom_range=0.5\n",
    "                    )\n",
    "\n",
    "\n",
    "train_data_gen = image_gen_train.flow_from_directory(\n",
    "                                                batch_size=batch_size,\n",
    "                                                directory=train_dir,\n",
    "                                                class_mode='categorical',\n",
    "                                                shuffle=True, \n",
    "                                                color_mode='grayscale',\n",
    "                                                target_size=(img_width,img_height)\n",
    "                                                )"
   ]
  },
  {
   "cell_type": "code",
   "execution_count": 7,
   "id": "b05cb460",
   "metadata": {},
   "outputs": [
    {
     "name": "stdout",
     "output_type": "stream",
     "text": [
      "Found 360 images belonging to 6 classes.\n"
     ]
    }
   ],
   "source": [
    "# validation data directory\n",
    "\n",
    "image_gen_val = ImageDataGenerator(rescale=1./255)\n",
    "\n",
    "val_data_gen = image_gen_val.flow_from_directory(batch_size=batch_size,\n",
    "                                                 directory=val_dir,\n",
    "                                                 class_mode='categorical',\n",
    "                                                 shuffle=True, \n",
    "                                                 color_mode='grayscale',\n",
    "                                                 target_size=(img_width,img_height),                                                  \n",
    "                                                )"
   ]
  },
  {
   "cell_type": "code",
   "execution_count": 8,
   "id": "c0561f89",
   "metadata": {},
   "outputs": [],
   "source": [
    "# model building\n",
    "\n",
    "model = tf.keras.Sequential()\n",
    "\n",
    "model.add(Conv2D(8, 3, padding='same', activation='relu', input_shape=(img_width,img_height, 1)))\n",
    "model.add(MaxPooling2D(pool_size=(2, 2)))\n",
    "\n",
    "model.add(Conv2D(16, 3, padding='same', activation='relu'))\n",
    "model.add(MaxPooling2D(pool_size=(2, 2)))\n",
    "\n",
    "model.add(Conv2D(32, 3, padding='same', activation='relu'))\n",
    "model.add(MaxPooling2D(pool_size=(2, 2)))\n",
    "\n",
    "\n",
    "model.add(Flatten())\n",
    "model.add(Dropout(0.25))\n",
    "\n",
    "model.add(Dense(6, activation='softmax'))"
   ]
  },
  {
   "cell_type": "code",
   "execution_count": 9,
   "id": "f5226cf0",
   "metadata": {},
   "outputs": [
    {
     "name": "stdout",
     "output_type": "stream",
     "text": [
      "Model: \"sequential\"\n",
      "_________________________________________________________________\n",
      "Layer (type)                 Output Shape              Param #   \n",
      "=================================================================\n",
      "conv2d (Conv2D)              (None, 200, 200, 8)       80        \n",
      "_________________________________________________________________\n",
      "max_pooling2d (MaxPooling2D) (None, 100, 100, 8)       0         \n",
      "_________________________________________________________________\n",
      "conv2d_1 (Conv2D)            (None, 100, 100, 16)      1168      \n",
      "_________________________________________________________________\n",
      "max_pooling2d_1 (MaxPooling2 (None, 50, 50, 16)        0         \n",
      "_________________________________________________________________\n",
      "conv2d_2 (Conv2D)            (None, 50, 50, 32)        4640      \n",
      "_________________________________________________________________\n",
      "max_pooling2d_2 (MaxPooling2 (None, 25, 25, 32)        0         \n",
      "_________________________________________________________________\n",
      "flatten (Flatten)            (None, 20000)             0         \n",
      "_________________________________________________________________\n",
      "dropout (Dropout)            (None, 20000)             0         \n",
      "_________________________________________________________________\n",
      "dense (Dense)                (None, 6)                 120006    \n",
      "=================================================================\n",
      "Total params: 125,894\n",
      "Trainable params: 125,894\n",
      "Non-trainable params: 0\n",
      "_________________________________________________________________\n",
      "None\n"
     ]
    }
   ],
   "source": [
    "#printing model summary\n",
    "\n",
    "print (model.summary())"
   ]
  },
  {
   "cell_type": "code",
   "execution_count": 10,
   "id": "edb91ec6",
   "metadata": {},
   "outputs": [],
   "source": [
    "# compiling the model\n",
    "\n",
    "model.compile(optimizer='adam',\n",
    "              loss='categorical_crossentropy',\n",
    "              metrics=['categorical_accuracy']) "
   ]
  },
  {
   "cell_type": "code",
   "execution_count": 11,
   "id": "e95a2bc0",
   "metadata": {},
   "outputs": [
    {
     "name": "stderr",
     "output_type": "stream",
     "text": [
      "/home/kevin/anaconda3/envs/tf_env/lib/python3.8/site-packages/tensorflow/python/keras/engine/training.py:1940: UserWarning: `Model.fit_generator` is deprecated and will be removed in a future version. Please use `Model.fit`, which supports generators.\n",
      "  warnings.warn('`Model.fit_generator` is deprecated and '\n"
     ]
    },
    {
     "name": "stdout",
     "output_type": "stream",
     "text": [
      "Epoch 1/20\n",
      "48/48 [==============================] - 9s 146ms/step - loss: 1.6613 - categorical_accuracy: 0.2556 - val_loss: 1.4485 - val_categorical_accuracy: 0.4778\n",
      "Epoch 2/20\n",
      "48/48 [==============================] - 7s 141ms/step - loss: 1.0704 - categorical_accuracy: 0.6132 - val_loss: 1.1150 - val_categorical_accuracy: 0.5528\n",
      "Epoch 3/20\n",
      "48/48 [==============================] - 7s 143ms/step - loss: 0.7094 - categorical_accuracy: 0.7708 - val_loss: 0.8513 - val_categorical_accuracy: 0.6278\n",
      "Epoch 4/20\n",
      "48/48 [==============================] - 7s 143ms/step - loss: 0.5660 - categorical_accuracy: 0.8069 - val_loss: 1.3053 - val_categorical_accuracy: 0.5472\n",
      "Epoch 5/20\n",
      "48/48 [==============================] - 7s 142ms/step - loss: 0.5191 - categorical_accuracy: 0.8278 - val_loss: 1.6868 - val_categorical_accuracy: 0.5417\n",
      "Epoch 6/20\n",
      "48/48 [==============================] - 7s 143ms/step - loss: 0.4855 - categorical_accuracy: 0.8438 - val_loss: 1.5003 - val_categorical_accuracy: 0.5500\n",
      "Epoch 7/20\n",
      "48/48 [==============================] - 7s 142ms/step - loss: 0.4104 - categorical_accuracy: 0.8597 - val_loss: 1.5874 - val_categorical_accuracy: 0.6111\n",
      "Epoch 8/20\n",
      "48/48 [==============================] - 7s 143ms/step - loss: 0.3668 - categorical_accuracy: 0.8778 - val_loss: 1.2064 - val_categorical_accuracy: 0.6806\n",
      "Epoch 9/20\n",
      "48/48 [==============================] - 7s 144ms/step - loss: 0.3761 - categorical_accuracy: 0.8681 - val_loss: 0.5174 - val_categorical_accuracy: 0.7722\n",
      "Epoch 10/20\n",
      "48/48 [==============================] - 7s 142ms/step - loss: 0.3431 - categorical_accuracy: 0.8972 - val_loss: 0.8669 - val_categorical_accuracy: 0.6778\n",
      "Epoch 11/20\n",
      "48/48 [==============================] - 7s 145ms/step - loss: 0.3483 - categorical_accuracy: 0.8819 - val_loss: 0.9791 - val_categorical_accuracy: 0.6917\n",
      "Epoch 12/20\n",
      "48/48 [==============================] - 7s 144ms/step - loss: 0.3203 - categorical_accuracy: 0.8868 - val_loss: 1.0326 - val_categorical_accuracy: 0.6556\n",
      "Epoch 13/20\n",
      "48/48 [==============================] - 7s 145ms/step - loss: 0.3263 - categorical_accuracy: 0.8875 - val_loss: 0.4214 - val_categorical_accuracy: 0.8500\n",
      "Epoch 14/20\n",
      "48/48 [==============================] - 7s 144ms/step - loss: 0.4003 - categorical_accuracy: 0.8646 - val_loss: 1.6832 - val_categorical_accuracy: 0.6333\n",
      "Epoch 15/20\n",
      "48/48 [==============================] - 7s 143ms/step - loss: 0.2924 - categorical_accuracy: 0.9028 - val_loss: 0.8456 - val_categorical_accuracy: 0.6833\n",
      "Epoch 16/20\n",
      "48/48 [==============================] - 7s 143ms/step - loss: 0.2662 - categorical_accuracy: 0.9111 - val_loss: 1.2664 - val_categorical_accuracy: 0.6361\n",
      "Epoch 17/20\n",
      "48/48 [==============================] - 7s 149ms/step - loss: 0.2490 - categorical_accuracy: 0.9097 - val_loss: 1.1322 - val_categorical_accuracy: 0.6056\n",
      "Epoch 18/20\n",
      "48/48 [==============================] - 7s 151ms/step - loss: 0.2746 - categorical_accuracy: 0.9062 - val_loss: 1.6733 - val_categorical_accuracy: 0.5861\n",
      "Epoch 19/20\n",
      "48/48 [==============================] - 8s 164ms/step - loss: 0.3005 - categorical_accuracy: 0.8938 - val_loss: 0.5846 - val_categorical_accuracy: 0.7583\n",
      "Epoch 20/20\n",
      "48/48 [==============================] - 7s 146ms/step - loss: 0.3105 - categorical_accuracy: 0.9028 - val_loss: 1.2501 - val_categorical_accuracy: 0.6806\n"
     ]
    }
   ],
   "source": [
    "# training the model\n",
    "\n",
    "epochs = 20\n",
    "\n",
    "history = model.fit_generator(\n",
    "    train_data_gen,\n",
    "    steps_per_epoch= int(np.ceil(train_data_gen.n / float(batch_size))),\n",
    "    epochs=epochs,\n",
    "    validation_data=val_data_gen,\n",
    "    validation_steps= int(np.ceil(val_data_gen.n / float(batch_size)))\n",
    ") "
   ]
  },
  {
   "cell_type": "code",
   "execution_count": 12,
   "id": "03faed2d",
   "metadata": {},
   "outputs": [
    {
     "data": {
      "text/plain": [
       "Text(0.5, 1.0, 'Training and Validation Accuracy')"
      ]
     },
     "execution_count": 12,
     "metadata": {},
     "output_type": "execute_result"
    },
    {
     "data": {
      "image/png": "[encoded data removed]",
      "text/plain": [
       "<Figure size 432x288 with 1 Axes>"
      ]
     },
     "metadata": {
      "needs_background": "light"
     },
     "output_type": "display_data"
    }
   ],
   "source": [
    "# plotting the accuracy and loss\n",
    "\n",
    "acc = history.history['categorical_accuracy']\n",
    "val_acc = history.history['val_categorical_accuracy']\n",
    "\n",
    "loss = history.history['loss']\n",
    "val_loss = history.history['val_loss']\n",
    "\n",
    "epochs_range = range(epochs)\n",
    "\n",
    "plt.plot(epochs_range, acc, label='Training Accuracy')\n",
    "plt.plot(epochs_range, val_acc, label='Validation Accuracy')\n",
    "plt.legend(loc='lower right')\n",
    "plt.title('Training and Validation Accuracy')"
   ]
  }
 ],
 "metadata": {
  "kernelspec": {
   "display_name": "tf_env",
   "language": "python",
   "name": "tf_env"
  },
  "language_info": {
   "codemirror_mode": {
    "name": "ipython",
    "version": 3
   },
   "file_extension": ".py",
   "mimetype": "text/x-python",
   "name": "python",
   "nbconvert_exporter": "python",
   "pygments_lexer": "ipython3",
   "version": "3.8.5"
  }
 },
 "nbformat": 4,
 "nbformat_minor": 5
}
