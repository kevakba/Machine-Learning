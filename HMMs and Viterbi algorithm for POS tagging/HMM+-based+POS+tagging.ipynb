{
 "cells": [
  {
   "cell_type": "markdown",
   "metadata": {},
   "source": [
    "# Problem Statement:\n",
    "\n",
    "The vanilla Viterbi algorithm is a simple probability based technique to Part of Speech (POS) tagging the words of sentences. However this algorithm is too simpleton when it encounters unknown words (i.e. not present in the training set, such as 'Twitter'), as it assigns an incorrect tag arbitrarily. This is because, for unknown words, the emission probabilities for all candidate tags are 0, so the algorithm arbitrarily chooses (the first) tag.\n",
    "\n",
    "In this assignment, we would modify the Viterbi algorithm to solve the problem of unknown words using two techniques namely,\n",
    "1. Regular expression based approach \n",
    "2. Modified Viterbi algorithm"
   ]
  },
  {
   "cell_type": "markdown",
   "metadata": {},
   "source": [
    "## 1. Data Preparation cum EDA"
   ]
  },
  {
   "cell_type": "code",
   "execution_count": 1,
   "metadata": {},
   "outputs": [],
   "source": [
    "#Importing libraries\n",
    "import nltk\n",
    "import numpy as np\n",
    "import pandas as pd\n",
    "\n",
    "from nltk.probability import FreqDist\n",
    "\n",
    "import matplotlib.pyplot as plt\n",
    "import seaborn as sns\n",
    "\n",
    "from sklearn.model_selection import train_test_split\n",
    "import random"
   ]
  },
  {
   "cell_type": "code",
   "execution_count": 2,
   "metadata": {},
   "outputs": [],
   "source": [
    "# reading the Treebank tagged sentences\n",
    "nltk_data = list(nltk.corpus.treebank.tagged_sents(tagset='universal'))"
   ]
  },
  {
   "cell_type": "code",
   "execution_count": 3,
   "metadata": {
    "scrolled": true
   },
   "outputs": [
    {
     "data": {
      "text/plain": [
       "[[('Pierre', 'NOUN'),\n",
       "  ('Vinken', 'NOUN'),\n",
       "  (',', '.'),\n",
       "  ('61', 'NUM'),\n",
       "  ('years', 'NOUN'),\n",
       "  ('old', 'ADJ'),\n",
       "  (',', '.'),\n",
       "  ('will', 'VERB'),\n",
       "  ('join', 'VERB'),\n",
       "  ('the', 'DET'),\n",
       "  ('board', 'NOUN'),\n",
       "  ('as', 'ADP'),\n",
       "  ('a', 'DET'),\n",
       "  ('nonexecutive', 'ADJ'),\n",
       "  ('director', 'NOUN'),\n",
       "  ('Nov.', 'NOUN'),\n",
       "  ('29', 'NUM'),\n",
       "  ('.', '.')],\n",
       " [('Mr.', 'NOUN'),\n",
       "  ('Vinken', 'NOUN'),\n",
       "  ('is', 'VERB'),\n",
       "  ('chairman', 'NOUN'),\n",
       "  ('of', 'ADP'),\n",
       "  ('Elsevier', 'NOUN'),\n",
       "  ('N.V.', 'NOUN'),\n",
       "  (',', '.'),\n",
       "  ('the', 'DET'),\n",
       "  ('Dutch', 'NOUN'),\n",
       "  ('publishing', 'VERB'),\n",
       "  ('group', 'NOUN'),\n",
       "  ('.', '.')]]"
      ]
     },
     "execution_count": 3,
     "metadata": {},
     "output_type": "execute_result"
    }
   ],
   "source": [
    "#data check\n",
    "nltk_data[:2]"
   ]
  },
  {
   "cell_type": "markdown",
   "metadata": {},
   "source": [
    "From above, we note that we have list of sentences and each sentence in the form of list of words. So we have loaded the dataset into an object viz. nltk_data."
   ]
  },
  {
   "cell_type": "code",
   "execution_count": 4,
   "metadata": {},
   "outputs": [
    {
     "data": {
      "text/plain": [
       "3914"
      ]
     },
     "execution_count": 4,
     "metadata": {},
     "output_type": "execute_result"
    }
   ],
   "source": [
    "#checkout the total no. of sentences in the available data\n",
    "len(nltk_data)"
   ]
  },
  {
   "cell_type": "code",
   "execution_count": 5,
   "metadata": {},
   "outputs": [
    {
     "name": "stdout",
     "output_type": "stream",
     "text": [
      "Total no. of unique POS tags in avalable data:  12\n",
      "\n",
      "The unique POS tags in the available data are as under: \n",
      "{'PRON', 'ADP', 'PRT', 'NOUN', 'CONJ', 'DET', 'NUM', 'VERB', 'X', 'ADJ', '.', 'ADV'}\n"
     ]
    }
   ],
   "source": [
    "#checkout the no. of unique POS tag tags in avalable data\n",
    "\n",
    "print('Total no. of unique POS tags in avalable data: ', len(set([pair[1] for sent in nltk_data for pair in sent])))\n",
    "print('')\n",
    "print('The unique POS tags in the available data are as under: ')\n",
    "print(set([pair[1] for sent in nltk_data for pair in sent]))"
   ]
  },
  {
   "cell_type": "markdown",
   "metadata": {},
   "source": [
    "So we have following 12 POS tags in our entire dataset:"
   ]
  },
  {
   "cell_type": "markdown",
   "metadata": {},
   "source": [
    "|POS|Description|\n",
    "|---|---|\n",
    "|CONJ| Conjunction (Connects words, phrases, and clauses)|\n",
    "|VERB |Verb (verb of any form)|\n",
    "| ADJ |Adjective (Words describing noun)|\n",
    "| X| Foreign word (The tag X is used for words that for some reason cannot be assigned a real part-of-speech category)|\n",
    "| ADV| Adverb (Words modifying a verb, adjective or other adverb)|\n",
    "| ADP |Adposition (Adposition is a cover term for prepositions and postpositions)|\n",
    "| PRON| Pronoun (Substitutes of noun)|\n",
    "| NOUN |Noun (name of something)|\n",
    "| DET| Determiner (Describes a reference to a noun)|\n",
    "| PRT |Particle (words that must be associated with another word or phrase to impart meaning)|\n",
    "| .|Punctuation (Punctuation marks are non-alphabetical characters and character groups used in many languages to delimit linguistic units in printed text)|\n",
    "| NUM |Cardinal Number (A numeral is a word, functioning most typically as a determiner, adjective or pronoun, that expresses a number and a relation to the number, such as quantity, sequence, frequency or fraction)|"
   ]
  },
  {
   "cell_type": "code",
   "execution_count": 6,
   "metadata": {},
   "outputs": [],
   "source": [
    "#dividing the data into train and validation sets with 95:5 ratio\n",
    "\n",
    "random.seed(1234)\n",
    "train_data, val_data = train_test_split(nltk_data, test_size=0.05)"
   ]
  },
  {
   "cell_type": "code",
   "execution_count": 7,
   "metadata": {},
   "outputs": [
    {
     "data": {
      "text/plain": [
       "3718"
      ]
     },
     "execution_count": 7,
     "metadata": {},
     "output_type": "execute_result"
    }
   ],
   "source": [
    "len(train_data)"
   ]
  },
  {
   "cell_type": "code",
   "execution_count": 8,
   "metadata": {},
   "outputs": [
    {
     "data": {
      "text/plain": [
       "196"
      ]
     },
     "execution_count": 8,
     "metadata": {},
     "output_type": "execute_result"
    }
   ],
   "source": [
    "len(val_data)"
   ]
  },
  {
   "cell_type": "code",
   "execution_count": 9,
   "metadata": {},
   "outputs": [
    {
     "name": "stdout",
     "output_type": "stream",
     "text": [
      "12\n",
      "{'PRON', 'ADP', 'PRT', 'NOUN', 'CONJ', 'X', 'DET', 'VERB', 'NUM', 'ADJ', '.', 'ADV'}\n"
     ]
    }
   ],
   "source": [
    "#trainig data POS check\n",
    "\n",
    "print(len(set([pair[1] for sent in train_data for pair in sent])))\n",
    "\n",
    "print(set([pair[1] for sent in train_data for pair in sent]))"
   ]
  },
  {
   "cell_type": "code",
   "execution_count": 10,
   "metadata": {},
   "outputs": [
    {
     "name": "stdout",
     "output_type": "stream",
     "text": [
      "12\n",
      "{'PRON', 'ADP', 'PRT', 'NOUN', 'CONJ', 'DET', 'NUM', 'VERB', 'X', 'ADJ', '.', 'ADV'}\n"
     ]
    }
   ],
   "source": [
    "#validation data POS check\n",
    "\n",
    "print(len(set([pair[1] for sent in val_data for pair in sent])))\n",
    "\n",
    "print(set([pair[1] for sent in val_data for pair in sent]))"
   ]
  },
  {
   "cell_type": "markdown",
   "metadata": {},
   "source": [
    "From above, we note that we have all 12 unique POS tags in both training and validation sets. Hence we have been able to divide the dataset in stratified way."
   ]
  },
  {
   "cell_type": "code",
   "execution_count": 11,
   "metadata": {},
   "outputs": [],
   "source": [
    "#clubbing all the trainset and validation tuples into their respective single lists\n",
    "train_data_total = [tup for sent in train_data for tup in sent]\n",
    "val_data_total = [tup for sent in val_data for tup in sent]"
   ]
  },
  {
   "cell_type": "code",
   "execution_count": 12,
   "metadata": {},
   "outputs": [
    {
     "name": "stdout",
     "output_type": "stream",
     "text": [
      "No. of words in training dataset:   95542\n",
      "No. of words in validation datset:   5134\n"
     ]
    }
   ],
   "source": [
    "#total no. of words in training and validation data\n",
    "print('No. of words in training dataset:  ',len(train_data_total))\n",
    "print('No. of words in validation datset:  ',len(val_data_total))"
   ]
  },
  {
   "cell_type": "code",
   "execution_count": 13,
   "metadata": {},
   "outputs": [
    {
     "data": {
      "text/plain": [
       "[('Banks', 'NOUN'),\n",
       " ('could', 'VERB'),\n",
       " ('seek', 'VERB'),\n",
       " ('*-1', 'X'),\n",
       " ('to', 'PRT')]"
      ]
     },
     "execution_count": 13,
     "metadata": {},
     "output_type": "execute_result"
    }
   ],
   "source": [
    "#check training data words\n",
    "train_data_total[:5]"
   ]
  },
  {
   "cell_type": "code",
   "execution_count": 14,
   "metadata": {},
   "outputs": [
    {
     "data": {
      "text/plain": [
       "[('Friends', 'NOUN'),\n",
       " ('of', 'ADP'),\n",
       " ('Education', 'NOUN'),\n",
       " ('rates', 'VERB'),\n",
       " ('South', 'NOUN')]"
      ]
     },
     "execution_count": 14,
     "metadata": {},
     "output_type": "execute_result"
    }
   ],
   "source": [
    "#check validation data words\n",
    "val_data_total[:5]"
   ]
  },
  {
   "cell_type": "code",
   "execution_count": 15,
   "metadata": {},
   "outputs": [
    {
     "data": {
      "image/png": "[encoded data removed]",
      "text/plain": [
       "<Figure size 432x288 with 1 Axes>"
      ]
     },
     "metadata": {
      "needs_background": "light"
     },
     "output_type": "display_data"
    }
   ],
   "source": [
    "#check out the frequecy distribution of different POS tags in trainset\n",
    "fdist1 = FreqDist([pair[1] for pair in train_data_total])\n",
    "\n",
    "fdist1.plot()\n",
    "plt.show()"
   ]
  },
  {
   "cell_type": "code",
   "execution_count": 16,
   "metadata": {},
   "outputs": [
    {
     "data": {
      "image/png": "[encoded data removed]",
      "text/plain": [
       "<Figure size 432x288 with 1 Axes>"
      ]
     },
     "metadata": {
      "needs_background": "light"
     },
     "output_type": "display_data"
    }
   ],
   "source": [
    "#check out the frequecy distribution of different POS tags in validation set\n",
    "fdist2 = FreqDist([pair[1] for pair in val_data_total])\n",
    "\n",
    "fdist2.plot()\n",
    "plt.show()"
   ]
  },
  {
   "cell_type": "markdown",
   "metadata": {},
   "source": [
    "From above, we note that majority of the words in both the training and validation datasets have actual tag as NOUN."
   ]
  },
  {
   "cell_type": "markdown",
   "metadata": {},
   "source": [
    "## 2. Building the vanilla Viterbi based POS tagger"
   ]
  },
  {
   "cell_type": "markdown",
   "metadata": {},
   "source": [
    "Now that we have divided our dataset into training and validation sets, let's build the venilla Viterbi algorithm on the same and observe the accuracy of that model on validation dataset. For venilla Viterbi algorithm, we have to find the emission and transition probabilities of all the words and the corresponding POS tags."
   ]
  },
  {
   "cell_type": "code",
   "execution_count": 17,
   "metadata": {},
   "outputs": [],
   "source": [
    "#seperating known words and unique POS tags from training set\n",
    "known_words = list(set([pair[0] for pair in train_data_total]))\n",
    "TAGS = list(set([pair[1] for pair in train_data_total]))\n",
    "TAGS.sort()   #sorting the tags list for uniformity"
   ]
  },
  {
   "cell_type": "code",
   "execution_count": 18,
   "metadata": {},
   "outputs": [
    {
     "data": {
      "text/plain": [
       "['.',\n",
       " 'ADJ',\n",
       " 'ADP',\n",
       " 'ADV',\n",
       " 'CONJ',\n",
       " 'DET',\n",
       " 'NOUN',\n",
       " 'NUM',\n",
       " 'PRON',\n",
       " 'PRT',\n",
       " 'VERB',\n",
       " 'X']"
      ]
     },
     "execution_count": 18,
     "metadata": {},
     "output_type": "execute_result"
    }
   ],
   "source": [
    "TAGS"
   ]
  },
  {
   "cell_type": "code",
   "execution_count": 19,
   "metadata": {},
   "outputs": [],
   "source": [
    "# compute word given tag: Emission Probability\n",
    "\n",
    "def word_given_tag(word, tag, train_bag = train_data_total):\n",
    "    tag_list = [pair for pair in train_bag if pair[1]==tag]\n",
    "    count_tag = len(tag_list)\n",
    "    w_given_tag_list = [pair[0] for pair in tag_list if pair[0]==word]\n",
    "    count_w_given_tag = len(w_given_tag_list)\n",
    "    \n",
    "    return (count_w_given_tag, count_tag)"
   ]
  },
  {
   "cell_type": "code",
   "execution_count": 20,
   "metadata": {},
   "outputs": [],
   "source": [
    "# compute tag given tag: tag2 (t2) given tag1 (t1), i.e. Transition Probability\n",
    "\n",
    "def t2_given_t1(t2, t1, train_bag = train_data_total):\n",
    "    tags = [pair[1] for pair in train_bag]\n",
    "    count_t1 = len([t for t in tags if t==t1])\n",
    "    count_t2_t1 = 0\n",
    "    for index in range(len(tags)-1):\n",
    "        if tags[index]==t1 and tags[index+1] == t2:\n",
    "            count_t2_t1 += 1\n",
    "    return (count_t2_t1, count_t1)"
   ]
  },
  {
   "cell_type": "code",
   "execution_count": 23,
   "metadata": {},
   "outputs": [],
   "source": [
    "# creating t x t transition matrix of tags\n",
    "# each column is t2, each row is t1\n",
    "# thus M(i, j) represents P(t_j given t_i)\n",
    "\n",
    "tags_matrix = np.zeros((len(TAGS), len(TAGS)), dtype='float32')\n",
    "for i, t1 in enumerate(TAGS):\n",
    "    for j, t2 in enumerate(TAGS): \n",
    "        tags_matrix[i, j] = t2_given_t1(t2, t1)[0]/t2_given_t1(t2, t1)[1]"
   ]
  },
  {
   "cell_type": "code",
   "execution_count": 24,
   "metadata": {},
   "outputs": [],
   "source": [
    "#preparing dataframe for transition probabilities\n",
    "tags_df = pd.DataFrame(tags_matrix, index = TAGS, columns=TAGS)"
   ]
  },
  {
   "cell_type": "markdown",
   "metadata": {},
   "source": [
    "Let's observe the tags_df, to check for any pattern in different POS tags."
   ]
  },
  {
   "cell_type": "code",
   "execution_count": 25,
   "metadata": {},
   "outputs": [
    {
     "data": {
      "image/png": "[encoded data removed]",
      "text/plain": [
       "<Figure size 864x720 with 2 Axes>"
      ]
     },
     "metadata": {
      "needs_background": "light"
     },
     "output_type": "display_data"
    }
   ],
   "source": [
    "plt.figure(figsize=(12,10))\n",
    "sns.heatmap(tags_df, annot=True, cmap=\"YlGnBu\", linewidth=1)\n",
    "plt.show()"
   ]
  },
  {
   "cell_type": "markdown",
   "metadata": {},
   "source": [
    "From above we note that there is:\n",
    "- high probability of NOUN occuring after ADJ\n",
    "- high probability of NOUN occuring after DET\n",
    "- high probability of VERB occuring after PRON"
   ]
  },
  {
   "cell_type": "code",
   "execution_count": 26,
   "metadata": {},
   "outputs": [],
   "source": [
    "# vanilla Viterbi Heuristic\n",
    "def Viterbi(words, train_bag = train_data_total, T=TAGS):\n",
    "    state = []\n",
    "    \n",
    "    for key, word in enumerate(words):\n",
    "        #initialise list of probability column for a given observation\n",
    "        p = [] \n",
    "        for tag in T:\n",
    "            if key == 0:\n",
    "                transition_p = tags_df.loc['.', tag]\n",
    "            else:\n",
    "                transition_p = tags_df.loc[state[-1], tag]\n",
    "                \n",
    "            # compute emission and state probabilities\n",
    "            emission_p = word_given_tag(words[key], tag)[0]/word_given_tag(words[key], tag)[1]\n",
    "            state_probability = emission_p * transition_p    \n",
    "            p.append(state_probability)\n",
    "            \n",
    "        pmax = max(p)\n",
    "        # getting state for which probability is maximum\n",
    "        state_max = T[p.index(pmax)] \n",
    "        state.append(state_max)\n",
    "    return list(zip(words, state))"
   ]
  },
  {
   "cell_type": "markdown",
   "metadata": {},
   "source": [
    "### Evaluation on vanilla Viterbi algorithm"
   ]
  },
  {
   "cell_type": "code",
   "execution_count": 27,
   "metadata": {},
   "outputs": [
    {
     "name": "stdout",
     "output_type": "stream",
     "text": [
      "sent no.: 0 ---> No. of correct predictions 17 / 19\n",
      "sent no.: 1 ---> No. of correct predictions 27 / 28\n",
      "sent no.: 2 ---> No. of correct predictions 4 / 4\n",
      "sent no.: 3 ---> No. of correct predictions 26 / 33\n",
      "sent no.: 4 ---> No. of correct predictions 35 / 35\n",
      "sent no.: 5 ---> No. of correct predictions 18 / 23\n",
      "sent no.: 6 ---> No. of correct predictions 24 / 26\n",
      "sent no.: 7 ---> No. of correct predictions 7 / 8\n",
      "sent no.: 8 ---> No. of correct predictions 22 / 24\n",
      "sent no.: 9 ---> No. of correct predictions 18 / 19\n",
      "sent no.: 10 ---> No. of correct predictions 28 / 30\n",
      "sent no.: 11 ---> No. of correct predictions 29 / 33\n",
      "sent no.: 12 ---> No. of correct predictions 42 / 43\n",
      "sent no.: 13 ---> No. of correct predictions 23 / 26\n",
      "sent no.: 14 ---> No. of correct predictions 16 / 16\n",
      "sent no.: 15 ---> No. of correct predictions 25 / 29\n",
      "sent no.: 16 ---> No. of correct predictions 43 / 46\n",
      "sent no.: 17 ---> No. of correct predictions 32 / 35\n",
      "sent no.: 18 ---> No. of correct predictions 46 / 47\n",
      "sent no.: 19 ---> No. of correct predictions 22 / 23\n",
      "sent no.: 20 ---> No. of correct predictions 49 / 55\n",
      "sent no.: 21 ---> No. of correct predictions 22 / 24\n",
      "sent no.: 22 ---> No. of correct predictions 10 / 11\n",
      "sent no.: 23 ---> No. of correct predictions 6 / 6\n",
      "sent no.: 24 ---> No. of correct predictions 27 / 29\n",
      "sent no.: 25 ---> No. of correct predictions 30 / 37\n",
      "sent no.: 26 ---> No. of correct predictions 11 / 13\n",
      "sent no.: 27 ---> No. of correct predictions 21 / 25\n",
      "sent no.: 28 ---> No. of correct predictions 27 / 29\n",
      "sent no.: 29 ---> No. of correct predictions 25 / 28\n",
      "sent no.: 30 ---> No. of correct predictions 16 / 18\n",
      "sent no.: 31 ---> No. of correct predictions 25 / 32\n",
      "sent no.: 32 ---> No. of correct predictions 37 / 39\n",
      "sent no.: 33 ---> No. of correct predictions 22 / 25\n",
      "sent no.: 34 ---> No. of correct predictions 25 / 28\n",
      "sent no.: 35 ---> No. of correct predictions 32 / 33\n",
      "sent no.: 36 ---> No. of correct predictions 10 / 12\n",
      "sent no.: 37 ---> No. of correct predictions 10 / 11\n",
      "sent no.: 38 ---> No. of correct predictions 23 / 25\n",
      "sent no.: 39 ---> No. of correct predictions 30 / 32\n",
      "sent no.: 40 ---> No. of correct predictions 30 / 33\n",
      "sent no.: 41 ---> No. of correct predictions 35 / 40\n",
      "sent no.: 42 ---> No. of correct predictions 47 / 55\n",
      "sent no.: 43 ---> No. of correct predictions 38 / 41\n",
      "sent no.: 44 ---> No. of correct predictions 25 / 26\n",
      "sent no.: 45 ---> No. of correct predictions 38 / 41\n",
      "sent no.: 46 ---> No. of correct predictions 15 / 15\n",
      "sent no.: 47 ---> No. of correct predictions 28 / 31\n",
      "sent no.: 48 ---> No. of correct predictions 33 / 39\n",
      "sent no.: 49 ---> No. of correct predictions 38 / 39\n",
      "sent no.: 50 ---> No. of correct predictions 29 / 31\n",
      "sent no.: 51 ---> No. of correct predictions 30 / 30\n",
      "sent no.: 52 ---> No. of correct predictions 17 / 22\n",
      "sent no.: 53 ---> No. of correct predictions 21 / 26\n",
      "sent no.: 54 ---> No. of correct predictions 30 / 32\n",
      "sent no.: 55 ---> No. of correct predictions 30 / 32\n",
      "sent no.: 56 ---> No. of correct predictions 15 / 24\n",
      "sent no.: 57 ---> No. of correct predictions 6 / 9\n",
      "sent no.: 58 ---> No. of correct predictions 34 / 35\n",
      "sent no.: 59 ---> No. of correct predictions 31 / 33\n",
      "sent no.: 60 ---> No. of correct predictions 13 / 16\n",
      "sent no.: 61 ---> No. of correct predictions 21 / 26\n",
      "sent no.: 62 ---> No. of correct predictions 7 / 8\n",
      "sent no.: 63 ---> No. of correct predictions 28 / 31\n",
      "sent no.: 64 ---> No. of correct predictions 15 / 19\n",
      "sent no.: 65 ---> No. of correct predictions 24 / 25\n",
      "sent no.: 66 ---> No. of correct predictions 29 / 33\n",
      "sent no.: 67 ---> No. of correct predictions 15 / 16\n",
      "sent no.: 68 ---> No. of correct predictions 7 / 8\n",
      "sent no.: 69 ---> No. of correct predictions 13 / 14\n",
      "sent no.: 70 ---> No. of correct predictions 10 / 11\n",
      "sent no.: 71 ---> No. of correct predictions 17 / 22\n",
      "sent no.: 72 ---> No. of correct predictions 23 / 25\n",
      "sent no.: 73 ---> No. of correct predictions 17 / 20\n",
      "sent no.: 74 ---> No. of correct predictions 1 / 3\n",
      "sent no.: 75 ---> No. of correct predictions 31 / 33\n",
      "sent no.: 76 ---> No. of correct predictions 44 / 46\n",
      "sent no.: 77 ---> No. of correct predictions 28 / 30\n",
      "sent no.: 78 ---> No. of correct predictions 43 / 48\n",
      "sent no.: 79 ---> No. of correct predictions 17 / 19\n",
      "sent no.: 80 ---> No. of correct predictions 31 / 32\n",
      "sent no.: 81 ---> No. of correct predictions 30 / 33\n",
      "sent no.: 82 ---> No. of correct predictions 17 / 18\n",
      "sent no.: 83 ---> No. of correct predictions 10 / 10\n",
      "sent no.: 84 ---> No. of correct predictions 19 / 20\n",
      "sent no.: 85 ---> No. of correct predictions 19 / 20\n",
      "sent no.: 86 ---> No. of correct predictions 32 / 32\n",
      "sent no.: 87 ---> No. of correct predictions 38 / 41\n",
      "sent no.: 88 ---> No. of correct predictions 29 / 29\n",
      "sent no.: 89 ---> No. of correct predictions 23 / 25\n",
      "sent no.: 90 ---> No. of correct predictions 25 / 27\n",
      "sent no.: 91 ---> No. of correct predictions 24 / 26\n",
      "sent no.: 92 ---> No. of correct predictions 10 / 13\n",
      "sent no.: 93 ---> No. of correct predictions 19 / 21\n",
      "sent no.: 94 ---> No. of correct predictions 16 / 17\n",
      "sent no.: 95 ---> No. of correct predictions 10 / 10\n",
      "sent no.: 96 ---> No. of correct predictions 21 / 22\n",
      "sent no.: 97 ---> No. of correct predictions 8 / 8\n",
      "sent no.: 98 ---> No. of correct predictions 33 / 35\n",
      "sent no.: 99 ---> No. of correct predictions 27 / 27\n",
      "sent no.: 100 ---> No. of correct predictions 14 / 14\n",
      "sent no.: 101 ---> No. of correct predictions 25 / 28\n",
      "sent no.: 102 ---> No. of correct predictions 44 / 53\n",
      "sent no.: 103 ---> No. of correct predictions 26 / 34\n",
      "sent no.: 104 ---> No. of correct predictions 42 / 45\n",
      "sent no.: 105 ---> No. of correct predictions 13 / 13\n",
      "sent no.: 106 ---> No. of correct predictions 7 / 7\n",
      "sent no.: 107 ---> No. of correct predictions 15 / 18\n",
      "sent no.: 108 ---> No. of correct predictions 17 / 19\n",
      "sent no.: 109 ---> No. of correct predictions 33 / 36\n",
      "sent no.: 110 ---> No. of correct predictions 35 / 38\n",
      "sent no.: 111 ---> No. of correct predictions 15 / 18\n",
      "sent no.: 112 ---> No. of correct predictions 14 / 18\n",
      "sent no.: 113 ---> No. of correct predictions 26 / 28\n",
      "sent no.: 114 ---> No. of correct predictions 34 / 35\n",
      "sent no.: 115 ---> No. of correct predictions 23 / 25\n",
      "sent no.: 116 ---> No. of correct predictions 44 / 56\n",
      "sent no.: 117 ---> No. of correct predictions 18 / 24\n",
      "sent no.: 118 ---> No. of correct predictions 22 / 23\n",
      "sent no.: 119 ---> No. of correct predictions 40 / 46\n",
      "sent no.: 120 ---> No. of correct predictions 25 / 28\n",
      "sent no.: 121 ---> No. of correct predictions 18 / 19\n",
      "sent no.: 122 ---> No. of correct predictions 50 / 58\n",
      "sent no.: 123 ---> No. of correct predictions 29 / 34\n",
      "sent no.: 124 ---> No. of correct predictions 29 / 30\n",
      "sent no.: 125 ---> No. of correct predictions 12 / 14\n",
      "sent no.: 126 ---> No. of correct predictions 12 / 12\n",
      "sent no.: 127 ---> No. of correct predictions 20 / 20\n",
      "sent no.: 128 ---> No. of correct predictions 42 / 42\n",
      "sent no.: 129 ---> No. of correct predictions 31 / 35\n",
      "sent no.: 130 ---> No. of correct predictions 29 / 29\n",
      "sent no.: 131 ---> No. of correct predictions 33 / 37\n",
      "sent no.: 132 ---> No. of correct predictions 37 / 43\n",
      "sent no.: 133 ---> No. of correct predictions 9 / 9\n",
      "sent no.: 134 ---> No. of correct predictions 20 / 21\n",
      "sent no.: 135 ---> No. of correct predictions 22 / 26\n",
      "sent no.: 136 ---> No. of correct predictions 20 / 23\n",
      "sent no.: 137 ---> No. of correct predictions 19 / 21\n",
      "sent no.: 138 ---> No. of correct predictions 21 / 21\n",
      "sent no.: 139 ---> No. of correct predictions 15 / 16\n",
      "sent no.: 140 ---> No. of correct predictions 23 / 28\n",
      "sent no.: 141 ---> No. of correct predictions 25 / 29\n",
      "sent no.: 142 ---> No. of correct predictions 23 / 24\n",
      "sent no.: 143 ---> No. of correct predictions 19 / 21\n",
      "sent no.: 144 ---> No. of correct predictions 11 / 12\n",
      "sent no.: 145 ---> No. of correct predictions 77 / 90\n",
      "sent no.: 146 ---> No. of correct predictions 18 / 19\n",
      "sent no.: 147 ---> No. of correct predictions 7 / 9\n",
      "sent no.: 148 ---> No. of correct predictions 12 / 14\n",
      "sent no.: 149 ---> No. of correct predictions 25 / 27\n",
      "sent no.: 150 ---> No. of correct predictions 16 / 18\n",
      "sent no.: 151 ---> No. of correct predictions 42 / 45\n",
      "sent no.: 152 ---> No. of correct predictions 26 / 28\n",
      "sent no.: 153 ---> No. of correct predictions 8 / 10\n",
      "sent no.: 154 ---> No. of correct predictions 16 / 18\n",
      "sent no.: 155 ---> No. of correct predictions 27 / 35\n",
      "sent no.: 156 ---> No. of correct predictions 45 / 45\n",
      "sent no.: 157 ---> No. of correct predictions 20 / 20\n",
      "sent no.: 158 ---> No. of correct predictions 29 / 33\n",
      "sent no.: 159 ---> No. of correct predictions 20 / 23\n",
      "sent no.: 160 ---> No. of correct predictions 26 / 32\n",
      "sent no.: 161 ---> No. of correct predictions 14 / 16\n",
      "sent no.: 162 ---> No. of correct predictions 37 / 42\n",
      "sent no.: 163 ---> No. of correct predictions 19 / 21\n",
      "sent no.: 164 ---> No. of correct predictions 38 / 41\n",
      "sent no.: 165 ---> No. of correct predictions 30 / 36\n",
      "sent no.: 166 ---> No. of correct predictions 14 / 17\n",
      "sent no.: 167 ---> No. of correct predictions 18 / 22\n",
      "sent no.: 168 ---> No. of correct predictions 32 / 33\n",
      "sent no.: 169 ---> No. of correct predictions 13 / 14\n",
      "sent no.: 170 ---> No. of correct predictions 12 / 13\n",
      "sent no.: 171 ---> No. of correct predictions 23 / 25\n",
      "sent no.: 172 ---> No. of correct predictions 23 / 24\n",
      "sent no.: 173 ---> No. of correct predictions 33 / 35\n",
      "sent no.: 174 ---> No. of correct predictions 17 / 20\n",
      "sent no.: 175 ---> No. of correct predictions 9 / 9\n",
      "sent no.: 176 ---> No. of correct predictions 24 / 27\n",
      "sent no.: 177 ---> No. of correct predictions 35 / 37\n",
      "sent no.: 178 ---> No. of correct predictions 19 / 26\n",
      "sent no.: 179 ---> No. of correct predictions 21 / 27\n",
      "sent no.: 180 ---> No. of correct predictions 21 / 21\n",
      "sent no.: 181 ---> No. of correct predictions 6 / 9\n",
      "sent no.: 182 ---> No. of correct predictions 11 / 12\n",
      "sent no.: 183 ---> No. of correct predictions 20 / 23\n",
      "sent no.: 184 ---> No. of correct predictions 32 / 35\n",
      "sent no.: 185 ---> No. of correct predictions 13 / 13\n",
      "sent no.: 186 ---> No. of correct predictions 17 / 21\n",
      "sent no.: 187 ---> No. of correct predictions 8 / 8\n",
      "sent no.: 188 ---> No. of correct predictions 27 / 27\n",
      "sent no.: 189 ---> No. of correct predictions 43 / 52\n",
      "sent no.: 190 ---> No. of correct predictions 14 / 16\n",
      "sent no.: 191 ---> No. of correct predictions 27 / 29\n",
      "sent no.: 192 ---> No. of correct predictions 26 / 28\n",
      "sent no.: 193 ---> No. of correct predictions 14 / 14\n",
      "sent no.: 194 ---> No. of correct predictions 10 / 11\n",
      "sent no.: 195 ---> No. of correct predictions 22 / 22\n",
      "The overall accuracy on validation set is: 90.24152707440592 %\n"
     ]
    }
   ],
   "source": [
    "val_len = len(val_data_total)   #finding length of val datset\n",
    "\n",
    "count=0    #count the no. of matches (i.e. actual POS = predicted POS)\n",
    "pred_pos = []   #to store the data in the format -------> (word, actual POS, predicted POS)\n",
    "sent_count=0   #count the no. of sentences\n",
    "\n",
    "for sent in val_data:\n",
    "    words = [pair[0] for pair in sent]\n",
    "    tags = [pair[1] for pair in sent]\n",
    "    tot_len_sent=len(words)\n",
    "    count2=0          #to count the no. of correct predictions in a given sentence\n",
    "    pred_tags = [pair[1] for pair in Viterbi(words)]   #storing the predicted tags in list object 'pred_tags'\n",
    "    for i,j in zip(tags,pred_tags):\n",
    "        pred_pos.append((words[tags.index(i)], i, j))\n",
    "        if i==j:\n",
    "            count+=1\n",
    "            count2+=1\n",
    "    print('sent no.:',sent_count,'--->','No. of correct predictions', count2, '/', tot_len_sent)\n",
    "    sent_count+=1\n",
    "\n",
    "accuracy = count/val_len*100\n",
    "\n",
    "print('The overall accuracy on validation set is:', accuracy,'%')\n",
    "\n",
    "accuracy_1 = accuracy"
   ]
  },
  {
   "cell_type": "markdown",
   "metadata": {},
   "source": [
    "## 3. Solving the problem of unknown words"
   ]
  },
  {
   "cell_type": "markdown",
   "metadata": {},
   "source": [
    "From above, we note that we have got good accuracy with the help of vanilla Viterbi algorithm for POS tagging. Now let's try and improve the accuracy further. We seen that there are many words in the validation dataset, which are not present in the training dataset. Those are called unknown words. Now since they are not present in the training dataset, their emission probability will be zero and hence vanilla Viterbi algorithm would not be able to predict the POS correctly. Let's try and mitigate this issue.\n",
    "\n",
    "Firstly, let's checkout the unknown words present in the validation dataset."
   ]
  },
  {
   "cell_type": "markdown",
   "metadata": {},
   "source": [
    "### 3.1 Model Solution I: Rule based tagging in conjunction with Viterbi algorithm"
   ]
  },
  {
   "cell_type": "code",
   "execution_count": 28,
   "metadata": {},
   "outputs": [],
   "source": [
    "#create set of unknown words in validation dataset\n",
    "unknown_words = list(set([pair[0] for pair in val_data_total \n",
    "                          if pair[0] not in list(set([pair[0] for pair in train_data_total]))]))"
   ]
  },
  {
   "cell_type": "code",
   "execution_count": 29,
   "metadata": {},
   "outputs": [
    {
     "data": {
      "text/plain": [
       "350"
      ]
     },
     "execution_count": 29,
     "metadata": {},
     "output_type": "execute_result"
    }
   ],
   "source": [
    "#total no. of unknown words in validation dataset\n",
    "len(unknown_words)"
   ]
  },
  {
   "cell_type": "code",
   "execution_count": 30,
   "metadata": {},
   "outputs": [
    {
     "data": {
      "text/plain": [
       "['skip',\n",
       " 'dilemma',\n",
       " 'Barfield',\n",
       " 'worms',\n",
       " 'astonishment',\n",
       " 'kindness',\n",
       " '778',\n",
       " 'FreudToy',\n",
       " 'unpopularity',\n",
       " 'Takashima',\n",
       " 'Ilminster',\n",
       " 'rooted',\n",
       " 'gubernatorial',\n",
       " 'bothered',\n",
       " 'advertorial',\n",
       " 'reckless',\n",
       " 'biscuit',\n",
       " 'Fears',\n",
       " '9.75',\n",
       " 'four-year-old',\n",
       " 'Lazzaroni',\n",
       " '*T*-161',\n",
       " 'DIALING',\n",
       " '6\\\\/2',\n",
       " 'troublesome',\n",
       " 'PHOTOGRAPH',\n",
       " 'accordance',\n",
       " 'Worksheets',\n",
       " 'leeway',\n",
       " 'Borough',\n",
       " 'aftereffects',\n",
       " 'bundles',\n",
       " 'multinational',\n",
       " 'sickness',\n",
       " 'borrowed',\n",
       " '*T*-258',\n",
       " 'juggernaut',\n",
       " 'durable',\n",
       " 'mid-1970s',\n",
       " 'abortions',\n",
       " 'Perhaps',\n",
       " 'propagandizes',\n",
       " 'higher-salaried',\n",
       " 'Orchestra',\n",
       " 'Ichiro',\n",
       " 'Freud',\n",
       " '*T*-179',\n",
       " 'instrument',\n",
       " 'Assurance',\n",
       " '24.95',\n",
       " 'Tourism',\n",
       " 'cardiovascular',\n",
       " 'Lt.',\n",
       " 'cease-fire',\n",
       " 'windfall',\n",
       " 'revenue-desperate',\n",
       " '700',\n",
       " 'Gayle',\n",
       " '23.72',\n",
       " 'FIRST',\n",
       " 'Borge',\n",
       " 'crowd',\n",
       " 'packed',\n",
       " 'Midland',\n",
       " 'Carlton',\n",
       " 'refuge',\n",
       " 'HUD',\n",
       " 'Seattle',\n",
       " 'peaked',\n",
       " 'miscarriages',\n",
       " 'O.',\n",
       " 'trafficking',\n",
       " 'ASSOCIATION',\n",
       " 'disapproval',\n",
       " 'Grandsire',\n",
       " 'digs',\n",
       " 'dust-up',\n",
       " 'defends',\n",
       " 'infectious',\n",
       " '26,956',\n",
       " '1940s',\n",
       " 'apologize',\n",
       " 'judiciary',\n",
       " 'retiring',\n",
       " '19-month-old',\n",
       " 'Andy',\n",
       " 'Scypher',\n",
       " 'secede',\n",
       " '*T*-232',\n",
       " 'Nylev',\n",
       " 'affecting',\n",
       " 'inform',\n",
       " 'Except',\n",
       " '51-year-old',\n",
       " '234.4',\n",
       " 'Tenn.',\n",
       " 'Brisk',\n",
       " '*-58',\n",
       " 'administer',\n",
       " 'Pretty',\n",
       " 'curled',\n",
       " 'Heavy',\n",
       " '1.1650',\n",
       " 'Lizhi',\n",
       " 'beers',\n",
       " 'agreeing',\n",
       " 'tools',\n",
       " 'pillow',\n",
       " 'Paper',\n",
       " 'attendance',\n",
       " 'faith',\n",
       " 'underline',\n",
       " 'fawning',\n",
       " 'transplantation',\n",
       " 'Tube',\n",
       " 'POTABLES',\n",
       " 'two-year-old',\n",
       " 'newsstands',\n",
       " 'executive-office',\n",
       " 'publication',\n",
       " 'expired',\n",
       " 'dismay',\n",
       " 'forgotten',\n",
       " 'discredit',\n",
       " 'Alysia',\n",
       " 'assaults',\n",
       " 'shopping',\n",
       " 'traditionalists',\n",
       " 'Obligations',\n",
       " 'unethical',\n",
       " 'NATIONAL',\n",
       " 'diethylstilbestrol',\n",
       " 'escalated',\n",
       " 'Cathedral',\n",
       " '158,666',\n",
       " 'tote',\n",
       " '*-137',\n",
       " 'resists',\n",
       " 'achievement-test',\n",
       " 'illustrates',\n",
       " 'cups',\n",
       " 'Proper',\n",
       " 'Napolitan',\n",
       " 'Louisiana',\n",
       " 'sky',\n",
       " 'cure',\n",
       " 'galling',\n",
       " 'cooperating',\n",
       " '8.70',\n",
       " 'neat',\n",
       " 'test-practice',\n",
       " 'less-serious',\n",
       " 'Henderson',\n",
       " 'Coca-Cola',\n",
       " 'U.S.-backed',\n",
       " 'sacrifice',\n",
       " 'magazines',\n",
       " 'Sigmund',\n",
       " 'pregnant',\n",
       " 'foreign-led',\n",
       " 'Fuji',\n",
       " 'permits',\n",
       " 'degenerative',\n",
       " 'tool',\n",
       " 'scandals',\n",
       " 'Hudnut',\n",
       " 'Barclays',\n",
       " 'starters',\n",
       " 'projector',\n",
       " '12.09',\n",
       " 'Merchant',\n",
       " 'versus',\n",
       " 'moreover',\n",
       " '*T*-224',\n",
       " '1.61',\n",
       " '*T*-197',\n",
       " 'frantic',\n",
       " 'articles',\n",
       " 'agreed-upon',\n",
       " 'nutty',\n",
       " 'famed',\n",
       " 'gauges',\n",
       " 'leap',\n",
       " 'Citibank',\n",
       " 'malnutrition',\n",
       " 'Send',\n",
       " 'behemoth',\n",
       " 'LTV',\n",
       " 'talk-show',\n",
       " 'Orders',\n",
       " 'specialize',\n",
       " 'Rothschild',\n",
       " 'Jan.',\n",
       " 'skyward',\n",
       " 'Louisiana-Pacific',\n",
       " 'unenticing',\n",
       " 'pre-Communist',\n",
       " 'five-cent',\n",
       " 'payable',\n",
       " 'tenfold',\n",
       " 'Mrs',\n",
       " 'departments',\n",
       " 'Andean',\n",
       " 'Instruments',\n",
       " 'Greer',\n",
       " 'superiors',\n",
       " 'Nicaraguan',\n",
       " 'Somerset',\n",
       " 'midtown',\n",
       " 'Numerous',\n",
       " 'tip',\n",
       " 'U.S.-Japanese',\n",
       " 'likeness',\n",
       " 'deviant',\n",
       " 'worsening',\n",
       " '127.03',\n",
       " 'manages',\n",
       " 'Hoosier',\n",
       " 'thirtysomething',\n",
       " 'characteristics',\n",
       " 'hormone',\n",
       " 'male-only',\n",
       " 'resubmit',\n",
       " 'Tassinari',\n",
       " 'Cup-Tote',\n",
       " 'Enzor',\n",
       " 'memorize',\n",
       " 'absurd',\n",
       " 'sogo-shosha',\n",
       " 'COLLECTING',\n",
       " 'kit',\n",
       " 'robustly',\n",
       " 'CAMPAIGN',\n",
       " 'exuded',\n",
       " 'resisting',\n",
       " 'merchandising',\n",
       " '63.79',\n",
       " 'Shuxian',\n",
       " 'Ancient',\n",
       " 'overproduction',\n",
       " 'Abbey',\n",
       " 'Greece',\n",
       " 'Edge',\n",
       " 'Huntington',\n",
       " '11.95',\n",
       " 'persuasion',\n",
       " 'Companies',\n",
       " 'Nelms',\n",
       " 'riskier',\n",
       " 'PORTING',\n",
       " '280',\n",
       " 'Income',\n",
       " '609',\n",
       " 'providers',\n",
       " '*-165',\n",
       " 'afford',\n",
       " 'thugs',\n",
       " 'Memphis',\n",
       " 'PLO',\n",
       " 'Oh',\n",
       " 'inverse',\n",
       " 'diabetes',\n",
       " 'upside',\n",
       " 'juvenile',\n",
       " '1637',\n",
       " 'pub',\n",
       " 'waif',\n",
       " 'inoperative',\n",
       " 'disapproved',\n",
       " 'toy',\n",
       " 'guest',\n",
       " '35500.64',\n",
       " 'unrestricted',\n",
       " 'Furillo',\n",
       " 'usurp',\n",
       " '12.52',\n",
       " 'pianist-comedian',\n",
       " 'estimation',\n",
       " 'display',\n",
       " 'Caters',\n",
       " 'carrying',\n",
       " 'Wilbur',\n",
       " 'Youths',\n",
       " 'white-collar',\n",
       " 'therapies',\n",
       " 'odd-sounding',\n",
       " 'sole',\n",
       " 'aesthetic',\n",
       " 'bribery',\n",
       " 'sensitivity',\n",
       " 'drunk',\n",
       " 'Arizona',\n",
       " 'Ian',\n",
       " 'landowners',\n",
       " 'sweat',\n",
       " 'Planters',\n",
       " 'Westminster',\n",
       " 'bout',\n",
       " 'custom',\n",
       " 'chiefly',\n",
       " 'Symphony',\n",
       " 'sheaf',\n",
       " 'reaping',\n",
       " 'Treble',\n",
       " 'bell-ringing',\n",
       " 'Filling',\n",
       " 'humans',\n",
       " 'materialize',\n",
       " 'undo',\n",
       " '5.3',\n",
       " 'applicable',\n",
       " 'mortgage-based',\n",
       " 'Nicole',\n",
       " 'Russian',\n",
       " 'Cosmopolitan',\n",
       " 'native',\n",
       " 'Rated',\n",
       " 'high-flying',\n",
       " '93,000',\n",
       " 'industrial-production',\n",
       " '*-161',\n",
       " 'fashioned',\n",
       " 'rounds',\n",
       " 'tad',\n",
       " 'dead-eyed',\n",
       " 'presumes',\n",
       " 'track',\n",
       " 'viewing',\n",
       " 'Mead',\n",
       " 'rulers',\n",
       " 'dissident',\n",
       " 'do-it-yourself',\n",
       " 'tour',\n",
       " 'Kawasaki',\n",
       " 'smothering',\n",
       " 'plot',\n",
       " '*T*-230',\n",
       " '*T*-254',\n",
       " 'Latin',\n",
       " 'repayment',\n",
       " 'highest-pitched',\n",
       " 'maybe',\n",
       " 'descending',\n",
       " 'supports',\n",
       " 'year-to-year',\n",
       " '0.2',\n",
       " '36',\n",
       " 'chest',\n",
       " 'cozy',\n",
       " '*-122']"
      ]
     },
     "execution_count": 30,
     "metadata": {},
     "output_type": "execute_result"
    }
   ],
   "source": [
    "unknown_words"
   ]
  },
  {
   "cell_type": "code",
   "execution_count": 31,
   "metadata": {},
   "outputs": [
    {
     "data": {
      "image/png": "[encoded data removed]",
      "text/plain": [
       "<Figure size 432x288 with 1 Axes>"
      ]
     },
     "metadata": {
      "needs_background": "light"
     },
     "output_type": "display_data"
    }
   ],
   "source": [
    "#checkout the actual tags of unknown words from validation set\n",
    "FreqDist([pair[1] for pair in pred_pos if pair[0] in unknown_words]).plot()\n",
    "plt.show()"
   ]
  },
  {
   "cell_type": "markdown",
   "metadata": {},
   "source": [
    "From above, we note that most unknowns have actual POS as NOUN. Let's check each POS one by one and figure out the corresponding regex based on morphological cues of unknown words."
   ]
  },
  {
   "cell_type": "markdown",
   "metadata": {},
   "source": [
    "#### NOUN:"
   ]
  },
  {
   "cell_type": "code",
   "execution_count": 32,
   "metadata": {},
   "outputs": [
    {
     "data": {
      "image/png": "[encoded data removed]",
      "text/plain": [
       "<Figure size 1080x504 with 1 Axes>"
      ]
     },
     "metadata": {
      "needs_background": "light"
     },
     "output_type": "display_data"
    }
   ],
   "source": [
    "#checkout wrongly tagged unknown words which are actually NOUN\n",
    "plt.figure(figsize=(15,7))\n",
    "FreqDist([pair for pair in pred_pos if pair[0] in unknown_words and pair[1]=='NOUN' and pair[1]!=pair[2]]).plot()\n",
    "plt.show()"
   ]
  },
  {
   "cell_type": "markdown",
   "metadata": {},
   "source": [
    "From above, we note that:\n",
    "- Majority of unknown NOUN words have been predicted as . while some of them have been predicted as VERB and ADJ.\n",
    "- We do not see any specific regular expression pattern to mitigate the issue as NOUN can be of any morphological form, in test sentences. However, NOUN is occurring highest in number, hence we can use following regular expression pattern as a backup for unknown words:"
   ]
  },
  {
   "cell_type": "code",
   "execution_count": 33,
   "metadata": {},
   "outputs": [],
   "source": [
    "pattern_noun = [\n",
    "    (r'.*\\'s$', 'NOUN'),              # possessive nouns\n",
    "    (r'.*s$', 'NOUN'),                # plural nouns\n",
    "    (r'.*', 'NOUN')                    # nouns i.e. overall backup\n",
    "               ]"
   ]
  },
  {
   "cell_type": "markdown",
   "metadata": {},
   "source": [
    "#### ADJ"
   ]
  },
  {
   "cell_type": "code",
   "execution_count": 34,
   "metadata": {},
   "outputs": [
    {
     "data": {
      "image/png": "[encoded data removed]",
      "text/plain": [
       "<Figure size 1080x504 with 1 Axes>"
      ]
     },
     "metadata": {
      "needs_background": "light"
     },
     "output_type": "display_data"
    }
   ],
   "source": [
    "#checkout wrongly tagged unknown words which are actually ADJ\n",
    "plt.figure(figsize=(15,7))\n",
    "FreqDist([pair for pair in pred_pos if pair[0] in unknown_words and pair[1]=='ADJ' and pair[1]!=pair[2]]).plot()\n",
    "plt.show()"
   ]
  },
  {
   "cell_type": "markdown",
   "metadata": {},
   "source": [
    "From above, we note that:\n",
    "- very few unknown ADJ have been wrongly marked\n",
    "- the wrongly marked unknown ADJ have been predicted as . or NOUN\n",
    "- here as well we do not find any specific pattern to categorize the unknown word as ADJ"
   ]
  },
  {
   "cell_type": "markdown",
   "metadata": {},
   "source": [
    "#### NUM"
   ]
  },
  {
   "cell_type": "code",
   "execution_count": 35,
   "metadata": {},
   "outputs": [
    {
     "data": {
      "image/png": "[encoded data removed]",
      "text/plain": [
       "<Figure size 1080x504 with 1 Axes>"
      ]
     },
     "metadata": {
      "needs_background": "light"
     },
     "output_type": "display_data"
    }
   ],
   "source": [
    "#checkout wrongly tagged unknown words which are actually NUM\n",
    "plt.figure(figsize=(15,7))\n",
    "FreqDist([pair for pair in pred_pos if pair[0] in unknown_words and pair[1]=='NUM' and pair[1]!=pair[2]]).plot()\n",
    "plt.show()"
   ]
  },
  {
   "cell_type": "markdown",
   "metadata": {},
   "source": [
    "From the above, we note that:\n",
    "- all the unknown NUM words have been predicted as . by our model\n",
    "- we can use following regular expression and the same in conjunction with our Viterbi algorithm, to mitigate the issue:"
   ]
  },
  {
   "cell_type": "code",
   "execution_count": 36,
   "metadata": {},
   "outputs": [],
   "source": [
    "pattern_num = [(r'^-?[0-9]+(.*[0-9]+)?([0-9]+)?([a-Z]+)?', 'NUM')]"
   ]
  },
  {
   "cell_type": "markdown",
   "metadata": {},
   "source": [
    "#### VERB"
   ]
  },
  {
   "cell_type": "code",
   "execution_count": 37,
   "metadata": {},
   "outputs": [
    {
     "data": {
      "image/png": "[encoded data removed]",
      "text/plain": [
       "<Figure size 1080x504 with 1 Axes>"
      ]
     },
     "metadata": {
      "needs_background": "light"
     },
     "output_type": "display_data"
    }
   ],
   "source": [
    "#checkout wrongly tagged unknown words which are actually VERB\n",
    "plt.figure(figsize=(15,7))\n",
    "FreqDist([pair for pair in pred_pos if pair[0] in unknown_words and pair[1]=='VERB' and pair[1]!=pair[2]]).plot()\n",
    "plt.show()"
   ]
  },
  {
   "cell_type": "markdown",
   "metadata": {},
   "source": [
    "From the above, we note that:\n",
    "- all the unknown VERB words have been predicted as . by our model\n",
    "- we can use following regular expression and the same in conjunction with our Viterbi algorithm, to mitigate the issue:"
   ]
  },
  {
   "cell_type": "code",
   "execution_count": 38,
   "metadata": {},
   "outputs": [],
   "source": [
    "pattern_verb = [\n",
    "    (r'.*ing$', 'VERB'),              # gerund\n",
    "    (r'.*ed$', 'VERB'),               # past tense\n",
    "    (r'.*es$', 'VERB'),               # 3rd singular present\n",
    "    (r'.*ould$', 'VERB'),              # modals\n",
    "]"
   ]
  },
  {
   "cell_type": "markdown",
   "metadata": {},
   "source": [
    "#### ADV"
   ]
  },
  {
   "cell_type": "code",
   "execution_count": 39,
   "metadata": {},
   "outputs": [
    {
     "data": {
      "image/png": "[encoded data removed]",
      "text/plain": [
       "<Figure size 1080x504 with 1 Axes>"
      ]
     },
     "metadata": {
      "needs_background": "light"
     },
     "output_type": "display_data"
    }
   ],
   "source": [
    "#checkout wrongly tagged unknown words which are actually ADV\n",
    "plt.figure(figsize=(15,7))\n",
    "FreqDist([pair for pair in pred_pos if pair[0] in unknown_words and pair[1]=='ADV' and pair[1]!=pair[2]]).plot()\n",
    "plt.show()"
   ]
  },
  {
   "cell_type": "markdown",
   "metadata": {},
   "source": [
    "From above, we note that:\n",
    "- very few unknown ADV have been wrongly marked\n",
    "- the wrongly marked unknown ADJ have been predicted as . or ADJ\n",
    "- here as well we do not find any specific pattern to categorize the unknown word as ADV"
   ]
  },
  {
   "cell_type": "markdown",
   "metadata": {},
   "source": [
    "#### X"
   ]
  },
  {
   "cell_type": "code",
   "execution_count": 40,
   "metadata": {},
   "outputs": [
    {
     "data": {
      "image/png": "[encoded data removed]",
      "text/plain": [
       "<Figure size 1080x504 with 1 Axes>"
      ]
     },
     "metadata": {
      "needs_background": "light"
     },
     "output_type": "display_data"
    }
   ],
   "source": [
    "#checkout wrongly tagged unknown words which are actually X\n",
    "plt.figure(figsize=(15,7))\n",
    "FreqDist([pair for pair in pred_pos if pair[0] in unknown_words and pair[1]=='X' and pair[1]!=pair[2]]).plot()\n",
    "plt.show()"
   ]
  },
  {
   "cell_type": "markdown",
   "metadata": {},
   "source": [
    "From above, we note that:\n",
    "- the wrongly marked unknown X have been predicted as .\n",
    "- here as well we do not find any specific pattern to categorize the unknown word as X since foreign words are hard to framed with regexp"
   ]
  },
  {
   "cell_type": "markdown",
   "metadata": {},
   "source": [
    "We know that **RegexpTagger** tag the words based on the priority sequence. Hence from our above analysis, let's use following regex pattern for POS tagging of unknown words:"
   ]
  },
  {
   "cell_type": "code",
   "execution_count": 41,
   "metadata": {},
   "outputs": [],
   "source": [
    "patterns = [\n",
    "    (r'.*ing$', 'VERB'),              # gerund\n",
    "    (r'.*ed$', 'VERB'),               # past tense\n",
    "    (r'.*es$', 'VERB'),               # 3rd singular present\n",
    "    (r'.*ould$', 'VERB'),              # modals\n",
    "    (r'^-?[0-9]+(.[0-9]+)?$', 'NUM'), # cardinal numbers\n",
    "    (r'.*\\'s$', 'NOUN'),              # possessive nouns\n",
    "    (r'.*s$', 'NOUN'),                # plural nouns\n",
    "    (r'.*', 'NOUN')                    # nouns\n",
    "]"
   ]
  },
  {
   "cell_type": "markdown",
   "metadata": {},
   "source": [
    "Here we use **RegexpTagger** in conjunction with Viterbi algorithms such that our model use **RegexpTagger** for POS tagging only for unknown words."
   ]
  },
  {
   "cell_type": "code",
   "execution_count": 42,
   "metadata": {},
   "outputs": [],
   "source": [
    "def Viterbi1(words, train_bag = train_data_total, T=TAGS, patterns=patterns, known_words=known_words):\n",
    "    state = []    \n",
    "    regexp_tagger = nltk.RegexpTagger(patterns)   #regexptagger for unknown words\n",
    "    \n",
    "    for key, word in enumerate(words):\n",
    "        if  word in known_words:     #if only word is known\n",
    "            #initialise list of probability column for a given observation\n",
    "            p = [] \n",
    "            for tag in T:\n",
    "                if key == 0:\n",
    "                    transition_p = tags_df.loc['.', tag]\n",
    "                else:\n",
    "                    transition_p = tags_df.loc[state[-1], tag]\n",
    "\n",
    "                # compute emission and state probabilities\n",
    "                emission_p = word_given_tag(words[key], tag)[0]/word_given_tag(words[key], tag)[1]\n",
    "                state_probability =  transition_p*emission_p    \n",
    "                p.append(state_probability)\n",
    "\n",
    "            pmax = max(p)\n",
    "            # getting state for which probability is maximum\n",
    "            state_max = T[p.index(pmax)] \n",
    "            state.append(state_max)\n",
    "        else:    #if word if unknown\n",
    "            regexp_pred = regexp_tagger.tag([word])[0][1]\n",
    "            state.append(regexp_pred)\n",
    "                         \n",
    "    return list(zip(words, state))"
   ]
  },
  {
   "cell_type": "code",
   "execution_count": 43,
   "metadata": {
    "scrolled": false
   },
   "outputs": [
    {
     "name": "stdout",
     "output_type": "stream",
     "text": [
      "sent no.: 0 ---> No. of correct predictions 17 / 19\n",
      "sent no.: 1 ---> No. of correct predictions 27 / 28\n",
      "sent no.: 2 ---> No. of correct predictions 4 / 4\n",
      "sent no.: 3 ---> No. of correct predictions 29 / 33\n",
      "sent no.: 4 ---> No. of correct predictions 35 / 35\n",
      "sent no.: 5 ---> No. of correct predictions 22 / 23\n",
      "sent no.: 6 ---> No. of correct predictions 24 / 26\n",
      "sent no.: 7 ---> No. of correct predictions 7 / 8\n",
      "sent no.: 8 ---> No. of correct predictions 24 / 24\n",
      "sent no.: 9 ---> No. of correct predictions 18 / 19\n",
      "sent no.: 10 ---> No. of correct predictions 29 / 30\n",
      "sent no.: 11 ---> No. of correct predictions 31 / 33\n",
      "sent no.: 12 ---> No. of correct predictions 43 / 43\n",
      "sent no.: 13 ---> No. of correct predictions 26 / 26\n",
      "sent no.: 14 ---> No. of correct predictions 16 / 16\n",
      "sent no.: 15 ---> No. of correct predictions 26 / 29\n",
      "sent no.: 16 ---> No. of correct predictions 43 / 46\n",
      "sent no.: 17 ---> No. of correct predictions 33 / 35\n",
      "sent no.: 18 ---> No. of correct predictions 46 / 47\n",
      "sent no.: 19 ---> No. of correct predictions 22 / 23\n",
      "sent no.: 20 ---> No. of correct predictions 53 / 55\n",
      "sent no.: 21 ---> No. of correct predictions 23 / 24\n",
      "sent no.: 22 ---> No. of correct predictions 10 / 11\n",
      "sent no.: 23 ---> No. of correct predictions 6 / 6\n",
      "sent no.: 24 ---> No. of correct predictions 28 / 29\n",
      "sent no.: 25 ---> No. of correct predictions 35 / 37\n",
      "sent no.: 26 ---> No. of correct predictions 13 / 13\n",
      "sent no.: 27 ---> No. of correct predictions 22 / 25\n",
      "sent no.: 28 ---> No. of correct predictions 29 / 29\n",
      "sent no.: 29 ---> No. of correct predictions 25 / 28\n",
      "sent no.: 30 ---> No. of correct predictions 17 / 18\n",
      "sent no.: 31 ---> No. of correct predictions 27 / 32\n",
      "sent no.: 32 ---> No. of correct predictions 39 / 39\n",
      "sent no.: 33 ---> No. of correct predictions 23 / 25\n",
      "sent no.: 34 ---> No. of correct predictions 27 / 28\n",
      "sent no.: 35 ---> No. of correct predictions 32 / 33\n",
      "sent no.: 36 ---> No. of correct predictions 10 / 12\n",
      "sent no.: 37 ---> No. of correct predictions 10 / 11\n",
      "sent no.: 38 ---> No. of correct predictions 25 / 25\n",
      "sent no.: 39 ---> No. of correct predictions 31 / 32\n",
      "sent no.: 40 ---> No. of correct predictions 33 / 33\n",
      "sent no.: 41 ---> No. of correct predictions 36 / 40\n",
      "sent no.: 42 ---> No. of correct predictions 51 / 55\n",
      "sent no.: 43 ---> No. of correct predictions 40 / 41\n",
      "sent no.: 44 ---> No. of correct predictions 26 / 26\n",
      "sent no.: 45 ---> No. of correct predictions 39 / 41\n",
      "sent no.: 46 ---> No. of correct predictions 15 / 15\n",
      "sent no.: 47 ---> No. of correct predictions 29 / 31\n",
      "sent no.: 48 ---> No. of correct predictions 39 / 39\n",
      "sent no.: 49 ---> No. of correct predictions 38 / 39\n",
      "sent no.: 50 ---> No. of correct predictions 30 / 31\n",
      "sent no.: 51 ---> No. of correct predictions 30 / 30\n",
      "sent no.: 52 ---> No. of correct predictions 20 / 22\n",
      "sent no.: 53 ---> No. of correct predictions 24 / 26\n",
      "sent no.: 54 ---> No. of correct predictions 32 / 32\n",
      "sent no.: 55 ---> No. of correct predictions 31 / 32\n",
      "sent no.: 56 ---> No. of correct predictions 23 / 24\n",
      "sent no.: 57 ---> No. of correct predictions 6 / 9\n",
      "sent no.: 58 ---> No. of correct predictions 35 / 35\n",
      "sent no.: 59 ---> No. of correct predictions 32 / 33\n",
      "sent no.: 60 ---> No. of correct predictions 15 / 16\n",
      "sent no.: 61 ---> No. of correct predictions 22 / 26\n",
      "sent no.: 62 ---> No. of correct predictions 7 / 8\n",
      "sent no.: 63 ---> No. of correct predictions 28 / 31\n",
      "sent no.: 64 ---> No. of correct predictions 18 / 19\n",
      "sent no.: 65 ---> No. of correct predictions 24 / 25\n",
      "sent no.: 66 ---> No. of correct predictions 30 / 33\n",
      "sent no.: 67 ---> No. of correct predictions 16 / 16\n",
      "sent no.: 68 ---> No. of correct predictions 8 / 8\n",
      "sent no.: 69 ---> No. of correct predictions 13 / 14\n",
      "sent no.: 70 ---> No. of correct predictions 10 / 11\n",
      "sent no.: 71 ---> No. of correct predictions 19 / 22\n",
      "sent no.: 72 ---> No. of correct predictions 23 / 25\n",
      "sent no.: 73 ---> No. of correct predictions 18 / 20\n",
      "sent no.: 74 ---> No. of correct predictions 2 / 3\n",
      "sent no.: 75 ---> No. of correct predictions 33 / 33\n",
      "sent no.: 76 ---> No. of correct predictions 45 / 46\n",
      "sent no.: 77 ---> No. of correct predictions 28 / 30\n",
      "sent no.: 78 ---> No. of correct predictions 48 / 48\n",
      "sent no.: 79 ---> No. of correct predictions 18 / 19\n",
      "sent no.: 80 ---> No. of correct predictions 31 / 32\n",
      "sent no.: 81 ---> No. of correct predictions 32 / 33\n",
      "sent no.: 82 ---> No. of correct predictions 18 / 18\n",
      "sent no.: 83 ---> No. of correct predictions 10 / 10\n",
      "sent no.: 84 ---> No. of correct predictions 20 / 20\n",
      "sent no.: 85 ---> No. of correct predictions 20 / 20\n",
      "sent no.: 86 ---> No. of correct predictions 32 / 32\n",
      "sent no.: 87 ---> No. of correct predictions 38 / 41\n",
      "sent no.: 88 ---> No. of correct predictions 29 / 29\n",
      "sent no.: 89 ---> No. of correct predictions 25 / 25\n",
      "sent no.: 90 ---> No. of correct predictions 26 / 27\n",
      "sent no.: 91 ---> No. of correct predictions 25 / 26\n",
      "sent no.: 92 ---> No. of correct predictions 11 / 13\n",
      "sent no.: 93 ---> No. of correct predictions 20 / 21\n",
      "sent no.: 94 ---> No. of correct predictions 16 / 17\n",
      "sent no.: 95 ---> No. of correct predictions 10 / 10\n",
      "sent no.: 96 ---> No. of correct predictions 21 / 22\n",
      "sent no.: 97 ---> No. of correct predictions 8 / 8\n",
      "sent no.: 98 ---> No. of correct predictions 34 / 35\n",
      "sent no.: 99 ---> No. of correct predictions 27 / 27\n",
      "sent no.: 100 ---> No. of correct predictions 14 / 14\n",
      "sent no.: 101 ---> No. of correct predictions 25 / 28\n",
      "sent no.: 102 ---> No. of correct predictions 49 / 53\n",
      "sent no.: 103 ---> No. of correct predictions 30 / 34\n",
      "sent no.: 104 ---> No. of correct predictions 43 / 45\n",
      "sent no.: 105 ---> No. of correct predictions 13 / 13\n",
      "sent no.: 106 ---> No. of correct predictions 7 / 7\n",
      "sent no.: 107 ---> No. of correct predictions 16 / 18\n",
      "sent no.: 108 ---> No. of correct predictions 17 / 19\n",
      "sent no.: 109 ---> No. of correct predictions 35 / 36\n",
      "sent no.: 110 ---> No. of correct predictions 35 / 38\n",
      "sent no.: 111 ---> No. of correct predictions 16 / 18\n",
      "sent no.: 112 ---> No. of correct predictions 17 / 18\n",
      "sent no.: 113 ---> No. of correct predictions 26 / 28\n",
      "sent no.: 114 ---> No. of correct predictions 34 / 35\n",
      "sent no.: 115 ---> No. of correct predictions 24 / 25\n",
      "sent no.: 116 ---> No. of correct predictions 49 / 56\n",
      "sent no.: 117 ---> No. of correct predictions 22 / 24\n",
      "sent no.: 118 ---> No. of correct predictions 22 / 23\n",
      "sent no.: 119 ---> No. of correct predictions 44 / 46\n",
      "sent no.: 120 ---> No. of correct predictions 28 / 28\n",
      "sent no.: 121 ---> No. of correct predictions 18 / 19\n",
      "sent no.: 122 ---> No. of correct predictions 55 / 58\n",
      "sent no.: 123 ---> No. of correct predictions 32 / 34\n",
      "sent no.: 124 ---> No. of correct predictions 29 / 30\n",
      "sent no.: 125 ---> No. of correct predictions 13 / 14\n",
      "sent no.: 126 ---> No. of correct predictions 12 / 12\n",
      "sent no.: 127 ---> No. of correct predictions 20 / 20\n",
      "sent no.: 128 ---> No. of correct predictions 42 / 42\n",
      "sent no.: 129 ---> No. of correct predictions 35 / 35\n",
      "sent no.: 130 ---> No. of correct predictions 29 / 29\n",
      "sent no.: 131 ---> No. of correct predictions 34 / 37\n",
      "sent no.: 132 ---> No. of correct predictions 40 / 43\n",
      "sent no.: 133 ---> No. of correct predictions 9 / 9\n",
      "sent no.: 134 ---> No. of correct predictions 21 / 21\n",
      "sent no.: 135 ---> No. of correct predictions 23 / 26\n",
      "sent no.: 136 ---> No. of correct predictions 23 / 23\n",
      "sent no.: 137 ---> No. of correct predictions 19 / 21\n",
      "sent no.: 138 ---> No. of correct predictions 21 / 21\n",
      "sent no.: 139 ---> No. of correct predictions 15 / 16\n",
      "sent no.: 140 ---> No. of correct predictions 25 / 28\n",
      "sent no.: 141 ---> No. of correct predictions 27 / 29\n",
      "sent no.: 142 ---> No. of correct predictions 23 / 24\n",
      "sent no.: 143 ---> No. of correct predictions 21 / 21\n",
      "sent no.: 144 ---> No. of correct predictions 12 / 12\n",
      "sent no.: 145 ---> No. of correct predictions 83 / 90\n",
      "sent no.: 146 ---> No. of correct predictions 19 / 19\n",
      "sent no.: 147 ---> No. of correct predictions 9 / 9\n",
      "sent no.: 148 ---> No. of correct predictions 12 / 14\n",
      "sent no.: 149 ---> No. of correct predictions 25 / 27\n",
      "sent no.: 150 ---> No. of correct predictions 18 / 18\n",
      "sent no.: 151 ---> No. of correct predictions 44 / 45\n",
      "sent no.: 152 ---> No. of correct predictions 26 / 28\n",
      "sent no.: 153 ---> No. of correct predictions 8 / 10\n",
      "sent no.: 154 ---> No. of correct predictions 16 / 18\n",
      "sent no.: 155 ---> No. of correct predictions 28 / 35\n",
      "sent no.: 156 ---> No. of correct predictions 45 / 45\n",
      "sent no.: 157 ---> No. of correct predictions 20 / 20\n",
      "sent no.: 158 ---> No. of correct predictions 29 / 33\n",
      "sent no.: 159 ---> No. of correct predictions 22 / 23\n",
      "sent no.: 160 ---> No. of correct predictions 31 / 32\n",
      "sent no.: 161 ---> No. of correct predictions 15 / 16\n",
      "sent no.: 162 ---> No. of correct predictions 38 / 42\n",
      "sent no.: 163 ---> No. of correct predictions 19 / 21\n",
      "sent no.: 164 ---> No. of correct predictions 39 / 41\n",
      "sent no.: 165 ---> No. of correct predictions 32 / 36\n",
      "sent no.: 166 ---> No. of correct predictions 14 / 17\n",
      "sent no.: 167 ---> No. of correct predictions 19 / 22\n",
      "sent no.: 168 ---> No. of correct predictions 33 / 33\n",
      "sent no.: 169 ---> No. of correct predictions 13 / 14\n",
      "sent no.: 170 ---> No. of correct predictions 13 / 13\n",
      "sent no.: 171 ---> No. of correct predictions 23 / 25\n",
      "sent no.: 172 ---> No. of correct predictions 24 / 24\n",
      "sent no.: 173 ---> No. of correct predictions 34 / 35\n",
      "sent no.: 174 ---> No. of correct predictions 18 / 20\n",
      "sent no.: 175 ---> No. of correct predictions 9 / 9\n",
      "sent no.: 176 ---> No. of correct predictions 25 / 27\n",
      "sent no.: 177 ---> No. of correct predictions 35 / 37\n",
      "sent no.: 178 ---> No. of correct predictions 26 / 26\n",
      "sent no.: 179 ---> No. of correct predictions 24 / 27\n",
      "sent no.: 180 ---> No. of correct predictions 21 / 21\n",
      "sent no.: 181 ---> No. of correct predictions 8 / 9\n",
      "sent no.: 182 ---> No. of correct predictions 11 / 12\n",
      "sent no.: 183 ---> No. of correct predictions 21 / 23\n",
      "sent no.: 184 ---> No. of correct predictions 32 / 35\n",
      "sent no.: 185 ---> No. of correct predictions 13 / 13\n",
      "sent no.: 186 ---> No. of correct predictions 17 / 21\n",
      "sent no.: 187 ---> No. of correct predictions 8 / 8\n",
      "sent no.: 188 ---> No. of correct predictions 27 / 27\n",
      "sent no.: 189 ---> No. of correct predictions 45 / 52\n",
      "sent no.: 190 ---> No. of correct predictions 15 / 16\n",
      "sent no.: 191 ---> No. of correct predictions 27 / 29\n",
      "sent no.: 192 ---> No. of correct predictions 27 / 28\n",
      "sent no.: 193 ---> No. of correct predictions 14 / 14\n",
      "sent no.: 194 ---> No. of correct predictions 10 / 11\n",
      "sent no.: 195 ---> No. of correct predictions 22 / 22\n",
      "The overall accuracy on validation set is: 94.74094273470978 %\n"
     ]
    }
   ],
   "source": [
    "val_len = len([pair for sent in val_data for pair in sent])   #finding length of val datset\n",
    "\n",
    "count=0\n",
    "pred_pos1 = []\n",
    "sent_count=0\n",
    "for sent in val_data:\n",
    "    words = [pair[0] for pair in sent]\n",
    "    tags = [pair[1] for pair in sent]\n",
    "    tot_len_sent=len(words)\n",
    "    count2=0\n",
    "    pred_tags = [pair[1] for pair in Viterbi1(words)]   #storing the predicted tags in object 'pred_tags'\n",
    "    for i,j in zip(tags,pred_tags):\n",
    "        pred_pos1.append((words[tags.index(i)], i, j))\n",
    "        if i==j:\n",
    "            count+=1\n",
    "            count2+=1\n",
    "    print('sent no.:',sent_count,'--->','No. of correct predictions', count2, '/', tot_len_sent)\n",
    "    sent_count+=1\n",
    "\n",
    "accuracy = count/val_len*100\n",
    "\n",
    "print('The overall accuracy on validation set is:', accuracy,'%')\n",
    "\n",
    "accuracy_2 = accuracy"
   ]
  },
  {
   "cell_type": "markdown",
   "metadata": {},
   "source": [
    "From above, we note that using regexptagger in tandem with Viterbi algorithm gives us improved accuracy."
   ]
  },
  {
   "cell_type": "markdown",
   "metadata": {},
   "source": [
    "### 3.2. Model Solution II: Using only Transition Probability for Viterbi Algorithm"
   ]
  },
  {
   "cell_type": "markdown",
   "metadata": {},
   "source": [
    "Now let's try something different. We know that Viterbi algorithm is unable to tag unknown words properly as the corresponding emission probabilities are zero. Let's try and use only transition probabilities for unknown words and analyse the model."
   ]
  },
  {
   "cell_type": "code",
   "execution_count": 44,
   "metadata": {},
   "outputs": [],
   "source": [
    "def Viterbi2(words, train_bag = train_data_total, T=TAGS, known_words=known_words):\n",
    "    state = []\n",
    "    for key, word in enumerate(words):\n",
    "        #initialise list of probability column for a given observation\n",
    "        p = [] \n",
    "        for tag in T:\n",
    "            if key == 0:\n",
    "                transition_p = tags_df.loc['.', tag]\n",
    "            else:\n",
    "                transition_p = tags_df.loc[state[-1], tag]\n",
    "                \n",
    "            # compute emission and state probabilities\n",
    "            if word in known_words:\n",
    "                emission_p = word_given_tag(words[key], tag)[0]/word_given_tag(words[key], tag)[1]\n",
    "            else:\n",
    "                emission_p=1   #only consider transition probability when word not in train data (known_words)\n",
    "                \n",
    "            state_probability =  transition_p*emission_p    \n",
    "            p.append(state_probability)\n",
    "            \n",
    "        pmax = max(p)\n",
    "        # getting state for which probability is maximum\n",
    "        state_max = T[p.index(pmax)] \n",
    "        state.append(state_max)\n",
    "    return list(zip(words, state))"
   ]
  },
  {
   "cell_type": "code",
   "execution_count": 45,
   "metadata": {
    "scrolled": false
   },
   "outputs": [
    {
     "name": "stdout",
     "output_type": "stream",
     "text": [
      "sent no.: 0 ---> No. of correct predictions 17 / 19\n",
      "sent no.: 1 ---> No. of correct predictions 27 / 28\n",
      "sent no.: 2 ---> No. of correct predictions 4 / 4\n",
      "sent no.: 3 ---> No. of correct predictions 31 / 33\n",
      "sent no.: 4 ---> No. of correct predictions 35 / 35\n",
      "sent no.: 5 ---> No. of correct predictions 21 / 23\n",
      "sent no.: 6 ---> No. of correct predictions 24 / 26\n",
      "sent no.: 7 ---> No. of correct predictions 7 / 8\n",
      "sent no.: 8 ---> No. of correct predictions 22 / 24\n",
      "sent no.: 9 ---> No. of correct predictions 18 / 19\n",
      "sent no.: 10 ---> No. of correct predictions 29 / 30\n",
      "sent no.: 11 ---> No. of correct predictions 31 / 33\n",
      "sent no.: 12 ---> No. of correct predictions 43 / 43\n",
      "sent no.: 13 ---> No. of correct predictions 23 / 26\n",
      "sent no.: 14 ---> No. of correct predictions 16 / 16\n",
      "sent no.: 15 ---> No. of correct predictions 26 / 29\n",
      "sent no.: 16 ---> No. of correct predictions 44 / 46\n",
      "sent no.: 17 ---> No. of correct predictions 32 / 35\n",
      "sent no.: 18 ---> No. of correct predictions 46 / 47\n",
      "sent no.: 19 ---> No. of correct predictions 22 / 23\n",
      "sent no.: 20 ---> No. of correct predictions 53 / 55\n",
      "sent no.: 21 ---> No. of correct predictions 22 / 24\n",
      "sent no.: 22 ---> No. of correct predictions 10 / 11\n",
      "sent no.: 23 ---> No. of correct predictions 6 / 6\n",
      "sent no.: 24 ---> No. of correct predictions 28 / 29\n",
      "sent no.: 25 ---> No. of correct predictions 35 / 37\n",
      "sent no.: 26 ---> No. of correct predictions 12 / 13\n",
      "sent no.: 27 ---> No. of correct predictions 21 / 25\n",
      "sent no.: 28 ---> No. of correct predictions 29 / 29\n",
      "sent no.: 29 ---> No. of correct predictions 25 / 28\n",
      "sent no.: 30 ---> No. of correct predictions 17 / 18\n",
      "sent no.: 31 ---> No. of correct predictions 26 / 32\n",
      "sent no.: 32 ---> No. of correct predictions 37 / 39\n",
      "sent no.: 33 ---> No. of correct predictions 23 / 25\n",
      "sent no.: 34 ---> No. of correct predictions 27 / 28\n",
      "sent no.: 35 ---> No. of correct predictions 32 / 33\n",
      "sent no.: 36 ---> No. of correct predictions 10 / 12\n",
      "sent no.: 37 ---> No. of correct predictions 10 / 11\n",
      "sent no.: 38 ---> No. of correct predictions 25 / 25\n",
      "sent no.: 39 ---> No. of correct predictions 30 / 32\n",
      "sent no.: 40 ---> No. of correct predictions 31 / 33\n",
      "sent no.: 41 ---> No. of correct predictions 34 / 40\n",
      "sent no.: 42 ---> No. of correct predictions 50 / 55\n",
      "sent no.: 43 ---> No. of correct predictions 40 / 41\n",
      "sent no.: 44 ---> No. of correct predictions 25 / 26\n",
      "sent no.: 45 ---> No. of correct predictions 38 / 41\n",
      "sent no.: 46 ---> No. of correct predictions 15 / 15\n",
      "sent no.: 47 ---> No. of correct predictions 29 / 31\n",
      "sent no.: 48 ---> No. of correct predictions 39 / 39\n",
      "sent no.: 49 ---> No. of correct predictions 38 / 39\n",
      "sent no.: 50 ---> No. of correct predictions 30 / 31\n",
      "sent no.: 51 ---> No. of correct predictions 30 / 30\n",
      "sent no.: 52 ---> No. of correct predictions 18 / 22\n",
      "sent no.: 53 ---> No. of correct predictions 24 / 26\n",
      "sent no.: 54 ---> No. of correct predictions 30 / 32\n",
      "sent no.: 55 ---> No. of correct predictions 31 / 32\n",
      "sent no.: 56 ---> No. of correct predictions 20 / 24\n",
      "sent no.: 57 ---> No. of correct predictions 6 / 9\n",
      "sent no.: 58 ---> No. of correct predictions 35 / 35\n",
      "sent no.: 59 ---> No. of correct predictions 32 / 33\n",
      "sent no.: 60 ---> No. of correct predictions 13 / 16\n",
      "sent no.: 61 ---> No. of correct predictions 23 / 26\n",
      "sent no.: 62 ---> No. of correct predictions 8 / 8\n",
      "sent no.: 63 ---> No. of correct predictions 29 / 31\n",
      "sent no.: 64 ---> No. of correct predictions 17 / 19\n",
      "sent no.: 65 ---> No. of correct predictions 24 / 25\n",
      "sent no.: 66 ---> No. of correct predictions 29 / 33\n",
      "sent no.: 67 ---> No. of correct predictions 16 / 16\n",
      "sent no.: 68 ---> No. of correct predictions 8 / 8\n",
      "sent no.: 69 ---> No. of correct predictions 13 / 14\n",
      "sent no.: 70 ---> No. of correct predictions 10 / 11\n",
      "sent no.: 71 ---> No. of correct predictions 17 / 22\n",
      "sent no.: 72 ---> No. of correct predictions 24 / 25\n",
      "sent no.: 73 ---> No. of correct predictions 19 / 20\n",
      "sent no.: 74 ---> No. of correct predictions 2 / 3\n",
      "sent no.: 75 ---> No. of correct predictions 33 / 33\n",
      "sent no.: 76 ---> No. of correct predictions 45 / 46\n",
      "sent no.: 77 ---> No. of correct predictions 28 / 30\n",
      "sent no.: 78 ---> No. of correct predictions 48 / 48\n",
      "sent no.: 79 ---> No. of correct predictions 18 / 19\n",
      "sent no.: 80 ---> No. of correct predictions 31 / 32\n",
      "sent no.: 81 ---> No. of correct predictions 31 / 33\n",
      "sent no.: 82 ---> No. of correct predictions 17 / 18\n",
      "sent no.: 83 ---> No. of correct predictions 10 / 10\n",
      "sent no.: 84 ---> No. of correct predictions 19 / 20\n",
      "sent no.: 85 ---> No. of correct predictions 19 / 20\n",
      "sent no.: 86 ---> No. of correct predictions 32 / 32\n",
      "sent no.: 87 ---> No. of correct predictions 39 / 41\n",
      "sent no.: 88 ---> No. of correct predictions 29 / 29\n",
      "sent no.: 89 ---> No. of correct predictions 23 / 25\n",
      "sent no.: 90 ---> No. of correct predictions 26 / 27\n",
      "sent no.: 91 ---> No. of correct predictions 24 / 26\n",
      "sent no.: 92 ---> No. of correct predictions 11 / 13\n",
      "sent no.: 93 ---> No. of correct predictions 20 / 21\n",
      "sent no.: 94 ---> No. of correct predictions 15 / 17\n",
      "sent no.: 95 ---> No. of correct predictions 10 / 10\n",
      "sent no.: 96 ---> No. of correct predictions 21 / 22\n",
      "sent no.: 97 ---> No. of correct predictions 8 / 8\n",
      "sent no.: 98 ---> No. of correct predictions 33 / 35\n",
      "sent no.: 99 ---> No. of correct predictions 27 / 27\n",
      "sent no.: 100 ---> No. of correct predictions 14 / 14\n",
      "sent no.: 101 ---> No. of correct predictions 25 / 28\n",
      "sent no.: 102 ---> No. of correct predictions 49 / 53\n",
      "sent no.: 103 ---> No. of correct predictions 29 / 34\n",
      "sent no.: 104 ---> No. of correct predictions 43 / 45\n",
      "sent no.: 105 ---> No. of correct predictions 13 / 13\n",
      "sent no.: 106 ---> No. of correct predictions 7 / 7\n",
      "sent no.: 107 ---> No. of correct predictions 15 / 18\n",
      "sent no.: 108 ---> No. of correct predictions 17 / 19\n",
      "sent no.: 109 ---> No. of correct predictions 35 / 36\n",
      "sent no.: 110 ---> No. of correct predictions 35 / 38\n",
      "sent no.: 111 ---> No. of correct predictions 16 / 18\n",
      "sent no.: 112 ---> No. of correct predictions 16 / 18\n",
      "sent no.: 113 ---> No. of correct predictions 27 / 28\n",
      "sent no.: 114 ---> No. of correct predictions 34 / 35\n",
      "sent no.: 115 ---> No. of correct predictions 24 / 25\n",
      "sent no.: 116 ---> No. of correct predictions 48 / 56\n",
      "sent no.: 117 ---> No. of correct predictions 20 / 24\n",
      "sent no.: 118 ---> No. of correct predictions 22 / 23\n",
      "sent no.: 119 ---> No. of correct predictions 42 / 46\n",
      "sent no.: 120 ---> No. of correct predictions 27 / 28\n",
      "sent no.: 121 ---> No. of correct predictions 18 / 19\n",
      "sent no.: 122 ---> No. of correct predictions 52 / 58\n",
      "sent no.: 123 ---> No. of correct predictions 30 / 34\n",
      "sent no.: 124 ---> No. of correct predictions 29 / 30\n",
      "sent no.: 125 ---> No. of correct predictions 12 / 14\n",
      "sent no.: 126 ---> No. of correct predictions 12 / 12\n",
      "sent no.: 127 ---> No. of correct predictions 20 / 20\n",
      "sent no.: 128 ---> No. of correct predictions 42 / 42\n",
      "sent no.: 129 ---> No. of correct predictions 34 / 35\n",
      "sent no.: 130 ---> No. of correct predictions 29 / 29\n",
      "sent no.: 131 ---> No. of correct predictions 34 / 37\n",
      "sent no.: 132 ---> No. of correct predictions 40 / 43\n",
      "sent no.: 133 ---> No. of correct predictions 9 / 9\n",
      "sent no.: 134 ---> No. of correct predictions 20 / 21\n",
      "sent no.: 135 ---> No. of correct predictions 23 / 26\n",
      "sent no.: 136 ---> No. of correct predictions 22 / 23\n",
      "sent no.: 137 ---> No. of correct predictions 19 / 21\n",
      "sent no.: 138 ---> No. of correct predictions 21 / 21\n",
      "sent no.: 139 ---> No. of correct predictions 15 / 16\n",
      "sent no.: 140 ---> No. of correct predictions 23 / 28\n",
      "sent no.: 141 ---> No. of correct predictions 27 / 29\n",
      "sent no.: 142 ---> No. of correct predictions 23 / 24\n",
      "sent no.: 143 ---> No. of correct predictions 19 / 21\n",
      "sent no.: 144 ---> No. of correct predictions 12 / 12\n",
      "sent no.: 145 ---> No. of correct predictions 81 / 90\n",
      "sent no.: 146 ---> No. of correct predictions 18 / 19\n",
      "sent no.: 147 ---> No. of correct predictions 8 / 9\n",
      "sent no.: 148 ---> No. of correct predictions 12 / 14\n",
      "sent no.: 149 ---> No. of correct predictions 25 / 27\n",
      "sent no.: 150 ---> No. of correct predictions 17 / 18\n",
      "sent no.: 151 ---> No. of correct predictions 44 / 45\n",
      "sent no.: 152 ---> No. of correct predictions 27 / 28\n",
      "sent no.: 153 ---> No. of correct predictions 9 / 10\n",
      "sent no.: 154 ---> No. of correct predictions 16 / 18\n",
      "sent no.: 155 ---> No. of correct predictions 29 / 35\n",
      "sent no.: 156 ---> No. of correct predictions 45 / 45\n",
      "sent no.: 157 ---> No. of correct predictions 20 / 20\n",
      "sent no.: 158 ---> No. of correct predictions 29 / 33\n",
      "sent no.: 159 ---> No. of correct predictions 21 / 23\n",
      "sent no.: 160 ---> No. of correct predictions 30 / 32\n",
      "sent no.: 161 ---> No. of correct predictions 15 / 16\n",
      "sent no.: 162 ---> No. of correct predictions 37 / 42\n",
      "sent no.: 163 ---> No. of correct predictions 19 / 21\n",
      "sent no.: 164 ---> No. of correct predictions 39 / 41\n",
      "sent no.: 165 ---> No. of correct predictions 31 / 36\n",
      "sent no.: 166 ---> No. of correct predictions 15 / 17\n",
      "sent no.: 167 ---> No. of correct predictions 19 / 22\n",
      "sent no.: 168 ---> No. of correct predictions 33 / 33\n",
      "sent no.: 169 ---> No. of correct predictions 13 / 14\n",
      "sent no.: 170 ---> No. of correct predictions 12 / 13\n",
      "sent no.: 171 ---> No. of correct predictions 23 / 25\n",
      "sent no.: 172 ---> No. of correct predictions 23 / 24\n",
      "sent no.: 173 ---> No. of correct predictions 34 / 35\n",
      "sent no.: 174 ---> No. of correct predictions 19 / 20\n",
      "sent no.: 175 ---> No. of correct predictions 9 / 9\n",
      "sent no.: 176 ---> No. of correct predictions 25 / 27\n",
      "sent no.: 177 ---> No. of correct predictions 35 / 37\n",
      "sent no.: 178 ---> No. of correct predictions 25 / 26\n",
      "sent no.: 179 ---> No. of correct predictions 24 / 27\n",
      "sent no.: 180 ---> No. of correct predictions 21 / 21\n",
      "sent no.: 181 ---> No. of correct predictions 8 / 9\n",
      "sent no.: 182 ---> No. of correct predictions 11 / 12\n",
      "sent no.: 183 ---> No. of correct predictions 21 / 23\n",
      "sent no.: 184 ---> No. of correct predictions 32 / 35\n",
      "sent no.: 185 ---> No. of correct predictions 13 / 13\n",
      "sent no.: 186 ---> No. of correct predictions 17 / 21\n",
      "sent no.: 187 ---> No. of correct predictions 8 / 8\n",
      "sent no.: 188 ---> No. of correct predictions 27 / 27\n",
      "sent no.: 189 ---> No. of correct predictions 46 / 52\n",
      "sent no.: 190 ---> No. of correct predictions 15 / 16\n",
      "sent no.: 191 ---> No. of correct predictions 27 / 29\n",
      "sent no.: 192 ---> No. of correct predictions 27 / 28\n",
      "sent no.: 193 ---> No. of correct predictions 14 / 14\n",
      "sent no.: 194 ---> No. of correct predictions 11 / 11\n",
      "sent no.: 195 ---> No. of correct predictions 22 / 22\n",
      "The overall accuracy on validation set is: 93.57226334242306 %\n"
     ]
    }
   ],
   "source": [
    "val_len = len([pair for sent in val_data for pair in sent])   #finding length of val datset\n",
    "\n",
    "count=0\n",
    "pred_pos2 = []\n",
    "sent_count=0\n",
    "for sent in val_data:\n",
    "    words = [pair[0] for pair in sent]\n",
    "    tags = [pair[1] for pair in sent]\n",
    "    tot_len_sent=len(words)\n",
    "    count2=0\n",
    "    pred_tags = [pair[1] for pair in Viterbi2(words)]   #storing the predicted tags in object 'pred_tags'\n",
    "    for i,j in zip(tags,pred_tags):\n",
    "        pred_pos2.append((words[tags.index(i)], i, j))\n",
    "        if i==j:\n",
    "            count+=1\n",
    "            count2+=1\n",
    "    print('sent no.:',sent_count,'--->','No. of correct predictions', count2, '/', tot_len_sent)\n",
    "    sent_count+=1\n",
    "\n",
    "accuracy = count/val_len*100\n",
    "\n",
    "print('The overall accuracy on validation set is:', accuracy,'%')\n",
    "\n",
    "accuracy_3 = accuracy"
   ]
  },
  {
   "cell_type": "markdown",
   "metadata": {},
   "source": [
    "## 4. Compare the tagging accuracies of the modifications with the vanilla Viterbi algorithm"
   ]
  },
  {
   "cell_type": "code",
   "execution_count": 58,
   "metadata": {},
   "outputs": [
    {
     "data": {
      "text/html": [
       "<div>\n",
       "<style scoped>\n",
       "    .dataframe tbody tr th:only-of-type {\n",
       "        vertical-align: middle;\n",
       "    }\n",
       "\n",
       "    .dataframe tbody tr th {\n",
       "        vertical-align: top;\n",
       "    }\n",
       "\n",
       "    .dataframe thead th {\n",
       "        text-align: right;\n",
       "    }\n",
       "</style>\n",
       "<table border=\"1\" class=\"dataframe\">\n",
       "  <thead>\n",
       "    <tr style=\"text-align: right;\">\n",
       "      <th></th>\n",
       "      <th>POS tagging Accuracy (in %)</th>\n",
       "    </tr>\n",
       "    <tr>\n",
       "      <th>Algorithm</th>\n",
       "      <th></th>\n",
       "    </tr>\n",
       "  </thead>\n",
       "  <tbody>\n",
       "    <tr>\n",
       "      <th>Vanilla Veterbi</th>\n",
       "      <td>90.241527</td>\n",
       "    </tr>\n",
       "    <tr>\n",
       "      <th>RegexpTagger in tandem with Viterbi</th>\n",
       "      <td>94.740943</td>\n",
       "    </tr>\n",
       "    <tr>\n",
       "      <th>Viterbi with only Transition probability</th>\n",
       "      <td>93.572263</td>\n",
       "    </tr>\n",
       "  </tbody>\n",
       "</table>\n",
       "</div>"
      ],
      "text/plain": [
       "                                          POS tagging Accuracy (in %)\n",
       "Algorithm                                                            \n",
       "Vanilla Veterbi                                             90.241527\n",
       "RegexpTagger in tandem with Viterbi                         94.740943\n",
       "Viterbi with only Transition probability                    93.572263"
      ]
     },
     "execution_count": 58,
     "metadata": {},
     "output_type": "execute_result"
    }
   ],
   "source": [
    "pd.DataFrame({'Algorithm':['Vanilla Veterbi','RegexpTagger in tandem with Viterbi','Viterbi with only Transition probability'],\n",
    "             'POS tagging Accuracy (in %)':[accuracy_1,accuracy_2,accuracy_3]}).set_index(['Algorithm'])"
   ]
  },
  {
   "cell_type": "markdown",
   "metadata": {},
   "source": [
    "From above, we can note that we have been able to improve the POS tagging accuracy by tweaking the original Viterbi algorithm"
   ]
  },
  {
   "cell_type": "markdown",
   "metadata": {},
   "source": [
    "## 5. List down cases which were incorrectly tagged by original POS tagger and got corrected by modifications"
   ]
  },
  {
   "cell_type": "markdown",
   "metadata": {},
   "source": [
    "Let's first load the sample test case dataset."
   ]
  },
  {
   "cell_type": "code",
   "execution_count": 47,
   "metadata": {},
   "outputs": [],
   "source": [
    "from urllib.request import urlopen\n",
    "page = urlopen(\"https://cdn.upgrad.com/UpGrad/temp/9dca5f3b-53c3-47e1-86d5-5ec5dafad6f0/Test_sentences.txt\")\n",
    "test_data = page.read().decode('utf-8')"
   ]
  },
  {
   "cell_type": "code",
   "execution_count": 48,
   "metadata": {},
   "outputs": [
    {
     "data": {
      "text/plain": [
       "\"Android is a mobile operating system developed by Google.\\r\\nAndroid has been the best-selling OS worldwide on smartphones since 2011 and on tablets since 2013.\\r\\nGoogle and Twitter made a deal in 2015 that gave Google access to Twitter's firehose.\\r\\nTwitter is an online news and social networking service on which users post and interact with messages known as tweets.\\r\\nBefore entering politics, Donald Trump was a domineering businessman and a television personality.\\r\\nThe 2018 FIFA World Cup is the 21st FIFA World Cup, an international football tournament contested once every four years.\\r\\nThis is the first World Cup to be held in Eastern Europe and the 11th time that it has been held in Europe.\\r\\nShow me the cheapest round trips from Dallas to Atlanta\\r\\nI would like to see flights from Denver to Philadelphia.\\r\\nShow me the price of the flights leaving Atlanta at about 3 in the afternoon and arriving in San Francisco.\\r\\nNASA invited social media users to experience the launch of ICESAT-2 Satellite.\\r\\n\\r\\n\\r\\n\\r\\n\""
      ]
     },
     "execution_count": 48,
     "metadata": {},
     "output_type": "execute_result"
    }
   ],
   "source": [
    "test_data"
   ]
  },
  {
   "cell_type": "markdown",
   "metadata": {},
   "source": [
    "Now since we do not know the actual POS tags of the test set, let's use following online tool for processing the same:\n",
    "http://textanalysisonline.com/spacy-pos-tagging\n",
    "\n",
    "The POS tags we obtained for the testset are as under:\n",
    "\n",
    "**Android|NOUN is|VERB a|DET mobile|ADJ operating|VERB system|NOUN developed|VERB by|ADP Google|NOUN .|PUNCT |ADJ Android|NOUN has|VERB been|VERB the|DET best|ADV -|PUNCT selling|VERB OS|NOUN worldwide|ADV on|ADP smartphones|NOUN since|ADP 2011|NUM and|CONJ on|ADP tablets|NOUN since|ADP 2013|NUM .|PUNCT |PUNCT Google|NOUN and|CONJ Twitter|NOUN made|VERB a|DET deal|NOUN in|ADP 2015|NUM that|ADJ gave|VERB Google|NOUN access|NOUN to|ADP Twitter|NOUN 's|PART firehose|NOUN .|PUNCT |PUNCT Twitter|NOUN is|VERB an|DET online|ADJ news|NOUN and|CONJ social|ADJ networking|NOUN service|NOUN on|ADP which|ADJ users|NOUN post|VERB and|CONJ interact|VERB with|ADP messages|NOUN known|VERB as|ADP tweets|NOUN .|PUNCT |X Before|ADP entering|VERB politics|NOUN ,|PUNCT Donald|NOUN Trump|NOUN was|VERB a|DET domineering|ADJ businessman|NOUN and|CONJ a|DET television|NOUN personality|NOUN .|PUNCT |NUM The|DET 2018|NUM FIFA|NOUN World|NOUN Cup|NOUN is|VERB the|DET 21st|ADJ FIFA|NOUN World|NOUN Cup|NOUN ,|PUNCT an|DET international|ADJ football|NOUN tournament|NOUN contested|VERB once|ADV every|DET four|NUM years|NOUN .|PUNCT |PUNCT This|DET is|VERB the|DET first|ADJ World|NOUN Cup|NOUN to|PART be|VERB held|VERB in|ADP Eastern|NOUN Europe|NOUN and|CONJ the|DET 11th|ADJ time|NOUN that|ADJ it|NOUN has|VERB been|VERB held|VERB in|ADP Europe|NOUN .|PUNCT |NOUN Show|NOUN me|NOUN the|DET cheapest|ADJ round|NOUN trips|NOUN from|ADP Dallas|NOUN to|ADP Atlanta|NOUN |NOUN I|NOUN would|VERB like|VERB to|PART see|VERB flights|NOUN from|ADP Denver|NOUN to|ADP Philadelphia|NOUN .|PUNCT |NOUN Show|NOUN me|NOUN the|DET price|NOUN of|ADP the|DET flights|NOUN leaving|VERB Atlanta|NOUN at|ADP about|ADP 3|NUM in|ADP the|DET afternoon|NOUN and|CONJ arriving|VERB in|ADP San|NOUN Francisco|NOUN .|PUNCT |NOUN NASA|NOUN invited|VERB social|ADJ media|NOUN users|NOUN to|PART experience|VERB the|DET launch|NOUN of|ADP ICESAT-2|NOUN Satellite|NOUN .|PUNCT**\n",
    "\n",
    "We would use above tags for reference. Now, let's process the test dataset."
   ]
  },
  {
   "cell_type": "code",
   "execution_count": 49,
   "metadata": {},
   "outputs": [],
   "source": [
    "#tokanizing the words from test dataset\n",
    "test_data_total = nltk.word_tokenize(test_data)"
   ]
  },
  {
   "cell_type": "code",
   "execution_count": 50,
   "metadata": {},
   "outputs": [
    {
     "data": {
      "text/plain": [
       "['Android',\n",
       " 'is',\n",
       " 'a',\n",
       " 'mobile',\n",
       " 'operating',\n",
       " 'system',\n",
       " 'developed',\n",
       " 'by',\n",
       " 'Google',\n",
       " '.',\n",
       " 'Android',\n",
       " 'has',\n",
       " 'been',\n",
       " 'the',\n",
       " 'best-selling',\n",
       " 'OS',\n",
       " 'worldwide',\n",
       " 'on',\n",
       " 'smartphones',\n",
       " 'since',\n",
       " '2011',\n",
       " 'and',\n",
       " 'on',\n",
       " 'tablets',\n",
       " 'since',\n",
       " '2013',\n",
       " '.',\n",
       " 'Google',\n",
       " 'and',\n",
       " 'Twitter',\n",
       " 'made',\n",
       " 'a',\n",
       " 'deal',\n",
       " 'in',\n",
       " '2015',\n",
       " 'that',\n",
       " 'gave',\n",
       " 'Google',\n",
       " 'access',\n",
       " 'to',\n",
       " 'Twitter',\n",
       " \"'s\",\n",
       " 'firehose',\n",
       " '.',\n",
       " 'Twitter',\n",
       " 'is',\n",
       " 'an',\n",
       " 'online',\n",
       " 'news',\n",
       " 'and',\n",
       " 'social',\n",
       " 'networking',\n",
       " 'service',\n",
       " 'on',\n",
       " 'which',\n",
       " 'users',\n",
       " 'post',\n",
       " 'and',\n",
       " 'interact',\n",
       " 'with',\n",
       " 'messages',\n",
       " 'known',\n",
       " 'as',\n",
       " 'tweets',\n",
       " '.',\n",
       " 'Before',\n",
       " 'entering',\n",
       " 'politics',\n",
       " ',',\n",
       " 'Donald',\n",
       " 'Trump',\n",
       " 'was',\n",
       " 'a',\n",
       " 'domineering',\n",
       " 'businessman',\n",
       " 'and',\n",
       " 'a',\n",
       " 'television',\n",
       " 'personality',\n",
       " '.',\n",
       " 'The',\n",
       " '2018',\n",
       " 'FIFA',\n",
       " 'World',\n",
       " 'Cup',\n",
       " 'is',\n",
       " 'the',\n",
       " '21st',\n",
       " 'FIFA',\n",
       " 'World',\n",
       " 'Cup',\n",
       " ',',\n",
       " 'an',\n",
       " 'international',\n",
       " 'football',\n",
       " 'tournament',\n",
       " 'contested',\n",
       " 'once',\n",
       " 'every',\n",
       " 'four',\n",
       " 'years',\n",
       " '.',\n",
       " 'This',\n",
       " 'is',\n",
       " 'the',\n",
       " 'first',\n",
       " 'World',\n",
       " 'Cup',\n",
       " 'to',\n",
       " 'be',\n",
       " 'held',\n",
       " 'in',\n",
       " 'Eastern',\n",
       " 'Europe',\n",
       " 'and',\n",
       " 'the',\n",
       " '11th',\n",
       " 'time',\n",
       " 'that',\n",
       " 'it',\n",
       " 'has',\n",
       " 'been',\n",
       " 'held',\n",
       " 'in',\n",
       " 'Europe',\n",
       " '.',\n",
       " 'Show',\n",
       " 'me',\n",
       " 'the',\n",
       " 'cheapest',\n",
       " 'round',\n",
       " 'trips',\n",
       " 'from',\n",
       " 'Dallas',\n",
       " 'to',\n",
       " 'Atlanta',\n",
       " 'I',\n",
       " 'would',\n",
       " 'like',\n",
       " 'to',\n",
       " 'see',\n",
       " 'flights',\n",
       " 'from',\n",
       " 'Denver',\n",
       " 'to',\n",
       " 'Philadelphia',\n",
       " '.',\n",
       " 'Show',\n",
       " 'me',\n",
       " 'the',\n",
       " 'price',\n",
       " 'of',\n",
       " 'the',\n",
       " 'flights',\n",
       " 'leaving',\n",
       " 'Atlanta',\n",
       " 'at',\n",
       " 'about',\n",
       " '3',\n",
       " 'in',\n",
       " 'the',\n",
       " 'afternoon',\n",
       " 'and',\n",
       " 'arriving',\n",
       " 'in',\n",
       " 'San',\n",
       " 'Francisco',\n",
       " '.',\n",
       " 'NASA',\n",
       " 'invited',\n",
       " 'social',\n",
       " 'media',\n",
       " 'users',\n",
       " 'to',\n",
       " 'experience',\n",
       " 'the',\n",
       " 'launch',\n",
       " 'of',\n",
       " 'ICESAT-2',\n",
       " 'Satellite',\n",
       " '.']"
      ]
     },
     "execution_count": 50,
     "metadata": {},
     "output_type": "execute_result"
    }
   ],
   "source": [
    "test_data_total"
   ]
  },
  {
   "cell_type": "markdown",
   "metadata": {},
   "source": [
    "Let's build a dataframe containing following columns:\n",
    "- all the words from test dataset\n",
    "- POS tags predicted by Vanilla Veterbi algorithm\n",
    "- POS tags predicted by RegexpTagger in tandem with Veterbi algorithm (Model Solution I)\n",
    "- POS tags predicted by Viterbi with only Transition probability (Model Solution II)\n",
    "\n",
    "We would use the above dataframe for comparison of various cases."
   ]
  },
  {
   "cell_type": "code",
   "execution_count": 51,
   "metadata": {},
   "outputs": [],
   "source": [
    "words = test_data_total\n",
    "pred_vanilla = [pair[1] for pair in Viterbi(test_data_total)]\n",
    "pred_MS_I = [pair[1] for pair in Viterbi1(test_data_total)]\n",
    "pred_MS_II = [pair[1] for pair in Viterbi2(test_data_total)]"
   ]
  },
  {
   "cell_type": "code",
   "execution_count": 52,
   "metadata": {},
   "outputs": [],
   "source": [
    "total_predict_df = pd.DataFrame({'words':words,\n",
    "                                'pred_vanilla':pred_vanilla,\n",
    "                                'pred_MS_I':pred_MS_I,\n",
    "                                'pred_MS_II':pred_MS_II})"
   ]
  },
  {
   "cell_type": "code",
   "execution_count": 53,
   "metadata": {},
   "outputs": [
    {
     "data": {
      "text/html": [
       "<div>\n",
       "<style scoped>\n",
       "    .dataframe tbody tr th:only-of-type {\n",
       "        vertical-align: middle;\n",
       "    }\n",
       "\n",
       "    .dataframe tbody tr th {\n",
       "        vertical-align: top;\n",
       "    }\n",
       "\n",
       "    .dataframe thead th {\n",
       "        text-align: right;\n",
       "    }\n",
       "</style>\n",
       "<table border=\"1\" class=\"dataframe\">\n",
       "  <thead>\n",
       "    <tr style=\"text-align: right;\">\n",
       "      <th></th>\n",
       "      <th>words</th>\n",
       "      <th>pred_vanilla</th>\n",
       "      <th>pred_MS_I</th>\n",
       "      <th>pred_MS_II</th>\n",
       "    </tr>\n",
       "  </thead>\n",
       "  <tbody>\n",
       "    <tr>\n",
       "      <th>0</th>\n",
       "      <td>Android</td>\n",
       "      <td>.</td>\n",
       "      <td>NOUN</td>\n",
       "      <td>NOUN</td>\n",
       "    </tr>\n",
       "    <tr>\n",
       "      <th>1</th>\n",
       "      <td>is</td>\n",
       "      <td>VERB</td>\n",
       "      <td>VERB</td>\n",
       "      <td>VERB</td>\n",
       "    </tr>\n",
       "    <tr>\n",
       "      <th>2</th>\n",
       "      <td>a</td>\n",
       "      <td>DET</td>\n",
       "      <td>DET</td>\n",
       "      <td>DET</td>\n",
       "    </tr>\n",
       "    <tr>\n",
       "      <th>3</th>\n",
       "      <td>mobile</td>\n",
       "      <td>ADJ</td>\n",
       "      <td>ADJ</td>\n",
       "      <td>ADJ</td>\n",
       "    </tr>\n",
       "    <tr>\n",
       "      <th>4</th>\n",
       "      <td>operating</td>\n",
       "      <td>NOUN</td>\n",
       "      <td>NOUN</td>\n",
       "      <td>NOUN</td>\n",
       "    </tr>\n",
       "    <tr>\n",
       "      <th>5</th>\n",
       "      <td>system</td>\n",
       "      <td>NOUN</td>\n",
       "      <td>NOUN</td>\n",
       "      <td>NOUN</td>\n",
       "    </tr>\n",
       "    <tr>\n",
       "      <th>6</th>\n",
       "      <td>developed</td>\n",
       "      <td>VERB</td>\n",
       "      <td>VERB</td>\n",
       "      <td>VERB</td>\n",
       "    </tr>\n",
       "    <tr>\n",
       "      <th>7</th>\n",
       "      <td>by</td>\n",
       "      <td>ADP</td>\n",
       "      <td>ADP</td>\n",
       "      <td>ADP</td>\n",
       "    </tr>\n",
       "    <tr>\n",
       "      <th>8</th>\n",
       "      <td>Google</td>\n",
       "      <td>.</td>\n",
       "      <td>NOUN</td>\n",
       "      <td>DET</td>\n",
       "    </tr>\n",
       "    <tr>\n",
       "      <th>9</th>\n",
       "      <td>.</td>\n",
       "      <td>.</td>\n",
       "      <td>.</td>\n",
       "      <td>.</td>\n",
       "    </tr>\n",
       "  </tbody>\n",
       "</table>\n",
       "</div>"
      ],
      "text/plain": [
       "       words pred_vanilla pred_MS_I pred_MS_II\n",
       "0    Android            .      NOUN       NOUN\n",
       "1         is         VERB      VERB       VERB\n",
       "2          a          DET       DET        DET\n",
       "3     mobile          ADJ       ADJ        ADJ\n",
       "4  operating         NOUN      NOUN       NOUN\n",
       "5     system         NOUN      NOUN       NOUN\n",
       "6  developed         VERB      VERB       VERB\n",
       "7         by          ADP       ADP        ADP\n",
       "8     Google            .      NOUN        DET\n",
       "9          .            .         .          ."
      ]
     },
     "execution_count": 53,
     "metadata": {},
     "output_type": "execute_result"
    }
   ],
   "source": [
    "total_predict_df.head(10)"
   ]
  },
  {
   "cell_type": "markdown",
   "metadata": {},
   "source": [
    "### 5.1 Vanilla Veterbi\tvs RegexpTagger in tandem with Viterbi (MS-I)"
   ]
  },
  {
   "cell_type": "code",
   "execution_count": 54,
   "metadata": {
    "scrolled": false
   },
   "outputs": [
    {
     "data": {
      "text/html": [
       "<div>\n",
       "<style scoped>\n",
       "    .dataframe tbody tr th:only-of-type {\n",
       "        vertical-align: middle;\n",
       "    }\n",
       "\n",
       "    .dataframe tbody tr th {\n",
       "        vertical-align: top;\n",
       "    }\n",
       "\n",
       "    .dataframe thead th {\n",
       "        text-align: right;\n",
       "    }\n",
       "</style>\n",
       "<table border=\"1\" class=\"dataframe\">\n",
       "  <thead>\n",
       "    <tr style=\"text-align: right;\">\n",
       "      <th></th>\n",
       "      <th>words</th>\n",
       "      <th>pred_vanilla</th>\n",
       "      <th>pred_MS_I</th>\n",
       "    </tr>\n",
       "  </thead>\n",
       "  <tbody>\n",
       "    <tr>\n",
       "      <th>0</th>\n",
       "      <td>Android</td>\n",
       "      <td>.</td>\n",
       "      <td>NOUN</td>\n",
       "    </tr>\n",
       "    <tr>\n",
       "      <th>8</th>\n",
       "      <td>Google</td>\n",
       "      <td>.</td>\n",
       "      <td>NOUN</td>\n",
       "    </tr>\n",
       "    <tr>\n",
       "      <th>10</th>\n",
       "      <td>Android</td>\n",
       "      <td>.</td>\n",
       "      <td>NOUN</td>\n",
       "    </tr>\n",
       "    <tr>\n",
       "      <th>15</th>\n",
       "      <td>OS</td>\n",
       "      <td>.</td>\n",
       "      <td>NOUN</td>\n",
       "    </tr>\n",
       "    <tr>\n",
       "      <th>16</th>\n",
       "      <td>worldwide</td>\n",
       "      <td>.</td>\n",
       "      <td>NOUN</td>\n",
       "    </tr>\n",
       "    <tr>\n",
       "      <th>18</th>\n",
       "      <td>smartphones</td>\n",
       "      <td>.</td>\n",
       "      <td>VERB</td>\n",
       "    </tr>\n",
       "    <tr>\n",
       "      <th>20</th>\n",
       "      <td>2011</td>\n",
       "      <td>.</td>\n",
       "      <td>NUM</td>\n",
       "    </tr>\n",
       "    <tr>\n",
       "      <th>25</th>\n",
       "      <td>2013</td>\n",
       "      <td>.</td>\n",
       "      <td>NUM</td>\n",
       "    </tr>\n",
       "    <tr>\n",
       "      <th>27</th>\n",
       "      <td>Google</td>\n",
       "      <td>.</td>\n",
       "      <td>NOUN</td>\n",
       "    </tr>\n",
       "    <tr>\n",
       "      <th>29</th>\n",
       "      <td>Twitter</td>\n",
       "      <td>.</td>\n",
       "      <td>NOUN</td>\n",
       "    </tr>\n",
       "    <tr>\n",
       "      <th>34</th>\n",
       "      <td>2015</td>\n",
       "      <td>.</td>\n",
       "      <td>NUM</td>\n",
       "    </tr>\n",
       "    <tr>\n",
       "      <th>35</th>\n",
       "      <td>that</td>\n",
       "      <td>DET</td>\n",
       "      <td>ADP</td>\n",
       "    </tr>\n",
       "    <tr>\n",
       "      <th>37</th>\n",
       "      <td>Google</td>\n",
       "      <td>.</td>\n",
       "      <td>NOUN</td>\n",
       "    </tr>\n",
       "    <tr>\n",
       "      <th>40</th>\n",
       "      <td>Twitter</td>\n",
       "      <td>.</td>\n",
       "      <td>NOUN</td>\n",
       "    </tr>\n",
       "    <tr>\n",
       "      <th>41</th>\n",
       "      <td>'s</td>\n",
       "      <td>VERB</td>\n",
       "      <td>PRT</td>\n",
       "    </tr>\n",
       "    <tr>\n",
       "      <th>42</th>\n",
       "      <td>firehose</td>\n",
       "      <td>.</td>\n",
       "      <td>NOUN</td>\n",
       "    </tr>\n",
       "    <tr>\n",
       "      <th>44</th>\n",
       "      <td>Twitter</td>\n",
       "      <td>.</td>\n",
       "      <td>NOUN</td>\n",
       "    </tr>\n",
       "    <tr>\n",
       "      <th>47</th>\n",
       "      <td>online</td>\n",
       "      <td>.</td>\n",
       "      <td>NOUN</td>\n",
       "    </tr>\n",
       "    <tr>\n",
       "      <th>58</th>\n",
       "      <td>interact</td>\n",
       "      <td>.</td>\n",
       "      <td>NOUN</td>\n",
       "    </tr>\n",
       "    <tr>\n",
       "      <th>60</th>\n",
       "      <td>messages</td>\n",
       "      <td>.</td>\n",
       "      <td>VERB</td>\n",
       "    </tr>\n",
       "    <tr>\n",
       "      <th>63</th>\n",
       "      <td>tweets</td>\n",
       "      <td>.</td>\n",
       "      <td>NOUN</td>\n",
       "    </tr>\n",
       "    <tr>\n",
       "      <th>73</th>\n",
       "      <td>domineering</td>\n",
       "      <td>.</td>\n",
       "      <td>VERB</td>\n",
       "    </tr>\n",
       "    <tr>\n",
       "      <th>78</th>\n",
       "      <td>personality</td>\n",
       "      <td>.</td>\n",
       "      <td>NOUN</td>\n",
       "    </tr>\n",
       "    <tr>\n",
       "      <th>81</th>\n",
       "      <td>2018</td>\n",
       "      <td>.</td>\n",
       "      <td>NUM</td>\n",
       "    </tr>\n",
       "    <tr>\n",
       "      <th>82</th>\n",
       "      <td>FIFA</td>\n",
       "      <td>.</td>\n",
       "      <td>NOUN</td>\n",
       "    </tr>\n",
       "    <tr>\n",
       "      <th>84</th>\n",
       "      <td>Cup</td>\n",
       "      <td>.</td>\n",
       "      <td>NOUN</td>\n",
       "    </tr>\n",
       "    <tr>\n",
       "      <th>87</th>\n",
       "      <td>21st</td>\n",
       "      <td>.</td>\n",
       "      <td>NOUN</td>\n",
       "    </tr>\n",
       "    <tr>\n",
       "      <th>88</th>\n",
       "      <td>FIFA</td>\n",
       "      <td>.</td>\n",
       "      <td>NOUN</td>\n",
       "    </tr>\n",
       "    <tr>\n",
       "      <th>90</th>\n",
       "      <td>Cup</td>\n",
       "      <td>.</td>\n",
       "      <td>NOUN</td>\n",
       "    </tr>\n",
       "    <tr>\n",
       "      <th>95</th>\n",
       "      <td>tournament</td>\n",
       "      <td>.</td>\n",
       "      <td>NOUN</td>\n",
       "    </tr>\n",
       "    <tr>\n",
       "      <th>96</th>\n",
       "      <td>contested</td>\n",
       "      <td>.</td>\n",
       "      <td>VERB</td>\n",
       "    </tr>\n",
       "    <tr>\n",
       "      <th>107</th>\n",
       "      <td>Cup</td>\n",
       "      <td>.</td>\n",
       "      <td>NOUN</td>\n",
       "    </tr>\n",
       "    <tr>\n",
       "      <th>131</th>\n",
       "      <td>trips</td>\n",
       "      <td>.</td>\n",
       "      <td>NOUN</td>\n",
       "    </tr>\n",
       "    <tr>\n",
       "      <th>163</th>\n",
       "      <td>arriving</td>\n",
       "      <td>.</td>\n",
       "      <td>VERB</td>\n",
       "    </tr>\n",
       "    <tr>\n",
       "      <th>168</th>\n",
       "      <td>NASA</td>\n",
       "      <td>.</td>\n",
       "      <td>NOUN</td>\n",
       "    </tr>\n",
       "    <tr>\n",
       "      <th>169</th>\n",
       "      <td>invited</td>\n",
       "      <td>.</td>\n",
       "      <td>VERB</td>\n",
       "    </tr>\n",
       "    <tr>\n",
       "      <th>178</th>\n",
       "      <td>ICESAT-2</td>\n",
       "      <td>.</td>\n",
       "      <td>NOUN</td>\n",
       "    </tr>\n",
       "    <tr>\n",
       "      <th>179</th>\n",
       "      <td>Satellite</td>\n",
       "      <td>.</td>\n",
       "      <td>NOUN</td>\n",
       "    </tr>\n",
       "  </tbody>\n",
       "</table>\n",
       "</div>"
      ],
      "text/plain": [
       "           words pred_vanilla pred_MS_I\n",
       "0        Android            .      NOUN\n",
       "8         Google            .      NOUN\n",
       "10       Android            .      NOUN\n",
       "15            OS            .      NOUN\n",
       "16     worldwide            .      NOUN\n",
       "18   smartphones            .      VERB\n",
       "20          2011            .       NUM\n",
       "25          2013            .       NUM\n",
       "27        Google            .      NOUN\n",
       "29       Twitter            .      NOUN\n",
       "34          2015            .       NUM\n",
       "35          that          DET       ADP\n",
       "37        Google            .      NOUN\n",
       "40       Twitter            .      NOUN\n",
       "41            's         VERB       PRT\n",
       "42      firehose            .      NOUN\n",
       "44       Twitter            .      NOUN\n",
       "47        online            .      NOUN\n",
       "58      interact            .      NOUN\n",
       "60      messages            .      VERB\n",
       "63        tweets            .      NOUN\n",
       "73   domineering            .      VERB\n",
       "78   personality            .      NOUN\n",
       "81          2018            .       NUM\n",
       "82          FIFA            .      NOUN\n",
       "84           Cup            .      NOUN\n",
       "87          21st            .      NOUN\n",
       "88          FIFA            .      NOUN\n",
       "90           Cup            .      NOUN\n",
       "95    tournament            .      NOUN\n",
       "96     contested            .      VERB\n",
       "107          Cup            .      NOUN\n",
       "131        trips            .      NOUN\n",
       "163     arriving            .      VERB\n",
       "168         NASA            .      NOUN\n",
       "169      invited            .      VERB\n",
       "178     ICESAT-2            .      NOUN\n",
       "179    Satellite            .      NOUN"
      ]
     },
     "execution_count": 54,
     "metadata": {},
     "output_type": "execute_result"
    }
   ],
   "source": [
    "comp_df1 = total_predict_df[(total_predict_df.pred_vanilla!=total_predict_df.pred_MS_I)].drop(['pred_MS_II'], axis=1)\n",
    "\n",
    "comp_df1"
   ]
  },
  {
   "cell_type": "code",
   "execution_count": 55,
   "metadata": {},
   "outputs": [
    {
     "name": "stdout",
     "output_type": "stream",
     "text": [
      "From above, we note that we have 38 words where our model solution-I has predicted differenly compared to vanilla Viterbi\n"
     ]
    }
   ],
   "source": [
    "print('From above, we note that we have %d words where our model solution-I has predicted differenly compared to vanilla Viterbi'%(comp_df1.shape[0]))"
   ]
  },
  {
   "cell_type": "markdown",
   "metadata": {},
   "source": [
    "Following is list of three cases from the sample test file which were incorrectly tagged by the original Viterbi POS tagger and got corrected after your modifications no. I:\n",
    "1. Google\n",
    "2. Android\n",
    "3. OS\n",
    "\n",
    "All the above three are NOUN but have been tagged as . by original model and corrected by model solution I. Further, there are some wrongly tagged VERB like invited, arriving, contested, which have been corrected by model solution I."
   ]
  },
  {
   "cell_type": "markdown",
   "metadata": {},
   "source": [
    "### 5.2 Vanilla Veterbi\tvs Viterbi with only Transition probability (MS-II)"
   ]
  },
  {
   "cell_type": "code",
   "execution_count": 56,
   "metadata": {},
   "outputs": [
    {
     "data": {
      "text/html": [
       "<div>\n",
       "<style scoped>\n",
       "    .dataframe tbody tr th:only-of-type {\n",
       "        vertical-align: middle;\n",
       "    }\n",
       "\n",
       "    .dataframe tbody tr th {\n",
       "        vertical-align: top;\n",
       "    }\n",
       "\n",
       "    .dataframe thead th {\n",
       "        text-align: right;\n",
       "    }\n",
       "</style>\n",
       "<table border=\"1\" class=\"dataframe\">\n",
       "  <thead>\n",
       "    <tr style=\"text-align: right;\">\n",
       "      <th></th>\n",
       "      <th>words</th>\n",
       "      <th>pred_vanilla</th>\n",
       "      <th>pred_MS_II</th>\n",
       "    </tr>\n",
       "  </thead>\n",
       "  <tbody>\n",
       "    <tr>\n",
       "      <th>0</th>\n",
       "      <td>Android</td>\n",
       "      <td>.</td>\n",
       "      <td>NOUN</td>\n",
       "    </tr>\n",
       "    <tr>\n",
       "      <th>8</th>\n",
       "      <td>Google</td>\n",
       "      <td>.</td>\n",
       "      <td>DET</td>\n",
       "    </tr>\n",
       "    <tr>\n",
       "      <th>10</th>\n",
       "      <td>Android</td>\n",
       "      <td>.</td>\n",
       "      <td>NOUN</td>\n",
       "    </tr>\n",
       "    <tr>\n",
       "      <th>15</th>\n",
       "      <td>OS</td>\n",
       "      <td>.</td>\n",
       "      <td>NOUN</td>\n",
       "    </tr>\n",
       "    <tr>\n",
       "      <th>16</th>\n",
       "      <td>worldwide</td>\n",
       "      <td>.</td>\n",
       "      <td>NOUN</td>\n",
       "    </tr>\n",
       "    <tr>\n",
       "      <th>18</th>\n",
       "      <td>smartphones</td>\n",
       "      <td>.</td>\n",
       "      <td>DET</td>\n",
       "    </tr>\n",
       "    <tr>\n",
       "      <th>20</th>\n",
       "      <td>2011</td>\n",
       "      <td>.</td>\n",
       "      <td>DET</td>\n",
       "    </tr>\n",
       "    <tr>\n",
       "      <th>25</th>\n",
       "      <td>2013</td>\n",
       "      <td>.</td>\n",
       "      <td>DET</td>\n",
       "    </tr>\n",
       "    <tr>\n",
       "      <th>27</th>\n",
       "      <td>Google</td>\n",
       "      <td>.</td>\n",
       "      <td>NOUN</td>\n",
       "    </tr>\n",
       "    <tr>\n",
       "      <th>29</th>\n",
       "      <td>Twitter</td>\n",
       "      <td>.</td>\n",
       "      <td>NOUN</td>\n",
       "    </tr>\n",
       "    <tr>\n",
       "      <th>34</th>\n",
       "      <td>2015</td>\n",
       "      <td>.</td>\n",
       "      <td>DET</td>\n",
       "    </tr>\n",
       "    <tr>\n",
       "      <th>35</th>\n",
       "      <td>that</td>\n",
       "      <td>DET</td>\n",
       "      <td>ADP</td>\n",
       "    </tr>\n",
       "    <tr>\n",
       "      <th>37</th>\n",
       "      <td>Google</td>\n",
       "      <td>.</td>\n",
       "      <td>X</td>\n",
       "    </tr>\n",
       "    <tr>\n",
       "      <th>40</th>\n",
       "      <td>Twitter</td>\n",
       "      <td>.</td>\n",
       "      <td>VERB</td>\n",
       "    </tr>\n",
       "    <tr>\n",
       "      <th>41</th>\n",
       "      <td>'s</td>\n",
       "      <td>VERB</td>\n",
       "      <td>PRT</td>\n",
       "    </tr>\n",
       "    <tr>\n",
       "      <th>42</th>\n",
       "      <td>firehose</td>\n",
       "      <td>.</td>\n",
       "      <td>VERB</td>\n",
       "    </tr>\n",
       "    <tr>\n",
       "      <th>44</th>\n",
       "      <td>Twitter</td>\n",
       "      <td>.</td>\n",
       "      <td>NOUN</td>\n",
       "    </tr>\n",
       "    <tr>\n",
       "      <th>47</th>\n",
       "      <td>online</td>\n",
       "      <td>.</td>\n",
       "      <td>NOUN</td>\n",
       "    </tr>\n",
       "    <tr>\n",
       "      <th>58</th>\n",
       "      <td>interact</td>\n",
       "      <td>.</td>\n",
       "      <td>NOUN</td>\n",
       "    </tr>\n",
       "    <tr>\n",
       "      <th>60</th>\n",
       "      <td>messages</td>\n",
       "      <td>.</td>\n",
       "      <td>DET</td>\n",
       "    </tr>\n",
       "    <tr>\n",
       "      <th>63</th>\n",
       "      <td>tweets</td>\n",
       "      <td>.</td>\n",
       "      <td>DET</td>\n",
       "    </tr>\n",
       "    <tr>\n",
       "      <th>73</th>\n",
       "      <td>domineering</td>\n",
       "      <td>.</td>\n",
       "      <td>NOUN</td>\n",
       "    </tr>\n",
       "    <tr>\n",
       "      <th>78</th>\n",
       "      <td>personality</td>\n",
       "      <td>.</td>\n",
       "      <td>NOUN</td>\n",
       "    </tr>\n",
       "    <tr>\n",
       "      <th>81</th>\n",
       "      <td>2018</td>\n",
       "      <td>.</td>\n",
       "      <td>NOUN</td>\n",
       "    </tr>\n",
       "    <tr>\n",
       "      <th>82</th>\n",
       "      <td>FIFA</td>\n",
       "      <td>.</td>\n",
       "      <td>NOUN</td>\n",
       "    </tr>\n",
       "    <tr>\n",
       "      <th>84</th>\n",
       "      <td>Cup</td>\n",
       "      <td>.</td>\n",
       "      <td>NOUN</td>\n",
       "    </tr>\n",
       "    <tr>\n",
       "      <th>87</th>\n",
       "      <td>21st</td>\n",
       "      <td>.</td>\n",
       "      <td>NOUN</td>\n",
       "    </tr>\n",
       "    <tr>\n",
       "      <th>88</th>\n",
       "      <td>FIFA</td>\n",
       "      <td>.</td>\n",
       "      <td>NOUN</td>\n",
       "    </tr>\n",
       "    <tr>\n",
       "      <th>90</th>\n",
       "      <td>Cup</td>\n",
       "      <td>.</td>\n",
       "      <td>NOUN</td>\n",
       "    </tr>\n",
       "    <tr>\n",
       "      <th>95</th>\n",
       "      <td>tournament</td>\n",
       "      <td>.</td>\n",
       "      <td>NOUN</td>\n",
       "    </tr>\n",
       "    <tr>\n",
       "      <th>96</th>\n",
       "      <td>contested</td>\n",
       "      <td>.</td>\n",
       "      <td>NOUN</td>\n",
       "    </tr>\n",
       "    <tr>\n",
       "      <th>107</th>\n",
       "      <td>Cup</td>\n",
       "      <td>.</td>\n",
       "      <td>NOUN</td>\n",
       "    </tr>\n",
       "    <tr>\n",
       "      <th>131</th>\n",
       "      <td>trips</td>\n",
       "      <td>.</td>\n",
       "      <td>NOUN</td>\n",
       "    </tr>\n",
       "    <tr>\n",
       "      <th>163</th>\n",
       "      <td>arriving</td>\n",
       "      <td>.</td>\n",
       "      <td>NOUN</td>\n",
       "    </tr>\n",
       "    <tr>\n",
       "      <th>168</th>\n",
       "      <td>NASA</td>\n",
       "      <td>.</td>\n",
       "      <td>NOUN</td>\n",
       "    </tr>\n",
       "    <tr>\n",
       "      <th>169</th>\n",
       "      <td>invited</td>\n",
       "      <td>.</td>\n",
       "      <td>NOUN</td>\n",
       "    </tr>\n",
       "    <tr>\n",
       "      <th>178</th>\n",
       "      <td>ICESAT-2</td>\n",
       "      <td>.</td>\n",
       "      <td>DET</td>\n",
       "    </tr>\n",
       "    <tr>\n",
       "      <th>179</th>\n",
       "      <td>Satellite</td>\n",
       "      <td>.</td>\n",
       "      <td>NOUN</td>\n",
       "    </tr>\n",
       "  </tbody>\n",
       "</table>\n",
       "</div>"
      ],
      "text/plain": [
       "           words pred_vanilla pred_MS_II\n",
       "0        Android            .       NOUN\n",
       "8         Google            .        DET\n",
       "10       Android            .       NOUN\n",
       "15            OS            .       NOUN\n",
       "16     worldwide            .       NOUN\n",
       "18   smartphones            .        DET\n",
       "20          2011            .        DET\n",
       "25          2013            .        DET\n",
       "27        Google            .       NOUN\n",
       "29       Twitter            .       NOUN\n",
       "34          2015            .        DET\n",
       "35          that          DET        ADP\n",
       "37        Google            .          X\n",
       "40       Twitter            .       VERB\n",
       "41            's         VERB        PRT\n",
       "42      firehose            .       VERB\n",
       "44       Twitter            .       NOUN\n",
       "47        online            .       NOUN\n",
       "58      interact            .       NOUN\n",
       "60      messages            .        DET\n",
       "63        tweets            .        DET\n",
       "73   domineering            .       NOUN\n",
       "78   personality            .       NOUN\n",
       "81          2018            .       NOUN\n",
       "82          FIFA            .       NOUN\n",
       "84           Cup            .       NOUN\n",
       "87          21st            .       NOUN\n",
       "88          FIFA            .       NOUN\n",
       "90           Cup            .       NOUN\n",
       "95    tournament            .       NOUN\n",
       "96     contested            .       NOUN\n",
       "107          Cup            .       NOUN\n",
       "131        trips            .       NOUN\n",
       "163     arriving            .       NOUN\n",
       "168         NASA            .       NOUN\n",
       "169      invited            .       NOUN\n",
       "178     ICESAT-2            .        DET\n",
       "179    Satellite            .       NOUN"
      ]
     },
     "execution_count": 56,
     "metadata": {},
     "output_type": "execute_result"
    }
   ],
   "source": [
    "comp_df2 = total_predict_df[(total_predict_df.pred_vanilla!=total_predict_df.pred_MS_II)].drop(['pred_MS_I'], axis=1)\n",
    "\n",
    "comp_df2"
   ]
  },
  {
   "cell_type": "code",
   "execution_count": 57,
   "metadata": {},
   "outputs": [
    {
     "name": "stdout",
     "output_type": "stream",
     "text": [
      "From above, we note that we have 38 words where our model solution-II has predicted differenly compared to vanilla Viterbi\n"
     ]
    }
   ],
   "source": [
    "print('From above, we note that we have %d words where our model solution-II has predicted differenly compared to vanilla Viterbi'%(comp_df2.shape[0]))"
   ]
  },
  {
   "cell_type": "markdown",
   "metadata": {},
   "source": [
    "Following is list of three cases from the sample test file which were incorrectly tagged by the original Viterbi POS tagger and got corrected after your modifications no. II:\n",
    "1. Cup\n",
    "2. FIFA\n",
    "3. Tournament\n",
    "\n",
    "All the above three are NOUN but have been tagged as . by original model and corrected by model solution II."
   ]
  },
  {
   "cell_type": "markdown",
   "metadata": {},
   "source": [
    "---------------------------------------------------------------------------------------------------------------------------"
   ]
  }
 ],
 "metadata": {
  "kernelspec": {
   "display_name": "Python 3",
   "language": "python",
   "name": "python3"
  },
  "language_info": {
   "codemirror_mode": {
    "name": "ipython",
    "version": 3
   },
   "file_extension": ".py",
   "mimetype": "text/x-python",
   "name": "python",
   "nbconvert_exporter": "python",
   "pygments_lexer": "ipython3",
   "version": "3.7.6"
  }
 },
 "nbformat": 4,
 "nbformat_minor": 2
}
